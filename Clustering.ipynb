{
 "cells": [
  {
   "cell_type": "code",
   "execution_count": 1,
   "id": "6ec399b9-06aa-4c9e-a53e-2070affb1a3b",
   "metadata": {
    "execution": {
     "iopub.execute_input": "2025-04-11T00:49:14.135049Z",
     "iopub.status.busy": "2025-04-11T00:49:14.134636Z",
     "iopub.status.idle": "2025-04-11T00:49:47.735995Z",
     "shell.execute_reply": "2025-04-11T00:49:47.735258Z",
     "shell.execute_reply.started": "2025-04-11T00:49:14.135012Z"
    },
    "executionRoleArn": "arn:aws:iam::140023401954:role/service-role/AmazonEMRStudio_RuntimeRole_1743982912962",
    "tags": []
   },
   "outputs": [
    {
     "data": {
      "application/vnd.jupyter.widget-view+json": {
       "model_id": "206e7f272aff4548b5512b496579a77b",
       "version_major": 2,
       "version_minor": 0
      },
      "text/plain": [
       "VBox()"
      ]
     },
     "metadata": {},
     "output_type": "display_data"
    },
    {
     "name": "stdout",
     "output_type": "stream",
     "text": [
      "Starting Spark application\n"
     ]
    },
    {
     "data": {
      "text/html": [
       "<table>\n",
       "    <tr><th>ID</th><th>Kind</th><th>State</th><th>Spark UI</th><th>Driver log</th><th>User</th><th>Current session?</th></tr><tr><td>2</td><td>pyspark</td><td>idle</td><td><a target=\"_blank\" href=\"https://spark-live-ui.emr-serverless.amazonaws.com\" class=\"emr-proxy-link\" emr-runtime=\"emr-serverless\" emr-resource=\"00frlbjdm2rov90e\" application-id=\"00fri3dtm1nino0d\">Link</a></td><td></td><td>None</td><td>✔</td></tr></table>"
      ],
      "text/plain": [
       "<IPython.core.display.HTML object>"
      ]
     },
     "metadata": {},
     "output_type": "display_data"
    },
    {
     "data": {
      "application/vnd.jupyter.widget-view+json": {
       "model_id": "",
       "version_major": 2,
       "version_minor": 0
      },
      "text/plain": [
       "FloatProgress(value=0.0, bar_style='info', description='Progress:', layout=Layout(height='25px', width='50%'),…"
      ]
     },
     "metadata": {},
     "output_type": "display_data"
    },
    {
     "name": "stdout",
     "output_type": "stream",
     "text": [
      "SparkSession available as 'spark'.\n"
     ]
    },
    {
     "data": {
      "application/vnd.jupyter.widget-view+json": {
       "model_id": "",
       "version_major": 2,
       "version_minor": 0
      },
      "text/plain": [
       "FloatProgress(value=0.0, bar_style='info', description='Progress:', layout=Layout(height='25px', width='50%'),…"
      ]
     },
     "metadata": {},
     "output_type": "display_data"
    },
    {
     "name": "stdout",
     "output_type": "stream",
     "text": [
      "+----------+-------+---------+--------+\n",
      "|CustomerID|Recency|Frequency|Monetary|\n",
      "+----------+-------+---------+--------+\n",
      "|     12626|     23|        9| 6620.48|\n",
      "|     17809|     16|       12| 5162.91|\n",
      "|     14837|     89|        4|  1649.5|\n",
      "|     13483|     65|        1|  140.34|\n",
      "|     17754|      0|        5| 1857.46|\n",
      "|     13508|    243|        1|  110.97|\n",
      "|     16706|     37|        3|   549.2|\n",
      "|     13504|     64|        1|  295.93|\n",
      "|     14944|     29|       11| 5865.57|\n",
      "|     15594|     15|        5| 1771.78|\n",
      "|     17346|      3|       15| 2717.71|\n",
      "|     14030|     18|        8| 2344.22|\n",
      "|     15216|     87|        1|    96.6|\n",
      "|     17396|     39|        8|  7330.8|\n",
      "|     17774|     96|        4| 1245.11|\n",
      "|     15491|     95|        6| 3100.09|\n",
      "|     13994|      3|        6| 2362.26|\n",
      "|     12566|     86|        1|  351.65|\n",
      "|     12447|    243|        1|  476.49|\n",
      "|     14367|      8|       16| 9291.22|\n",
      "+----------+-------+---------+--------+\n",
      "only showing top 20 rows"
     ]
    }
   ],
   "source": [
    "from pyspark.sql import SparkSession\n",
    " \n",
    "# Start Spark session\n",
    "spark = SparkSession.builder.appName(\"cust_seg\").getOrCreate()\n",
    " \n",
    "# Load dataset\n",
    "df = spark.read.csv(\"s3://projectcustomer/RFM.csv\", header=True, inferSchema=True)\n",
    " \n",
    "# Show the first few rows of the DataFrame\n",
    "df.show()"
   ]
  },
  {
   "cell_type": "code",
   "execution_count": 2,
   "id": "29634885-2809-44e5-9fd0-c2ee372879f9",
   "metadata": {
    "execution": {
     "iopub.execute_input": "2025-04-11T00:49:54.932966Z",
     "iopub.status.busy": "2025-04-11T00:49:54.932532Z",
     "iopub.status.idle": "2025-04-11T00:49:59.114364Z",
     "shell.execute_reply": "2025-04-11T00:49:59.113713Z",
     "shell.execute_reply.started": "2025-04-11T00:49:54.932936Z"
    },
    "executionRoleArn": "arn:aws:iam::140023401954:role/service-role/AmazonEMRStudio_RuntimeRole_1743982912962",
    "tags": []
   },
   "outputs": [
    {
     "data": {
      "application/vnd.jupyter.widget-view+json": {
       "model_id": "aa02245a341f42e38e70346604d0fa19",
       "version_major": 2,
       "version_minor": 0
      },
      "text/plain": [
       "VBox()"
      ]
     },
     "metadata": {},
     "output_type": "display_data"
    },
    {
     "data": {
      "application/vnd.jupyter.widget-view+json": {
       "model_id": "",
       "version_major": 2,
       "version_minor": 0
      },
      "text/plain": [
       "FloatProgress(value=0.0, bar_style='info', description='Progress:', layout=Layout(height='25px', width='50%'),…"
      ]
     },
     "metadata": {},
     "output_type": "display_data"
    },
    {
     "name": "stdout",
     "output_type": "stream",
     "text": [
      "RFM Percentile Thresholds:\n",
      "\n",
      "Recency:\n",
      "   25th percentile: 17.0\n",
      "   50th percentile: 49.0\n",
      "   75th percentile: 137.0\n",
      "\n",
      "Frequency:\n",
      "   25th percentile: 1.0\n",
      "   50th percentile: 2.0\n",
      "   75th percentile: 5.0\n",
      "\n",
      "Monetary:\n",
      "   25th percentile: 306.67\n",
      "   50th percentile: 662.88\n",
      "   75th percentile: 1628.74"
     ]
    }
   ],
   "source": [
    "# Compute 25th, 50th, and 75th percentiles for Recency, Frequency, and Monetary\n",
    "recency_q25, recency_q50, recency_q75 = df.approxQuantile(\"Recency\", [0.25, 0.5, 0.75], 0.01)\n",
    "frequency_q25, frequency_q50, frequency_q75 = df.approxQuantile(\"Frequency\", [0.25, 0.5, 0.75], 0.01)\n",
    "monetary_q25, monetary_q50, monetary_q75 = df.approxQuantile(\"Monetary\", [0.25, 0.5, 0.75], 0.01)\n",
    "\n",
    "# Print \n",
    "print(\"RFM Percentile Thresholds:\\n\")\n",
    "\n",
    "print(\"Recency:\")\n",
    "print(f\"   25th percentile: {recency_q25}\")\n",
    "print(f\"   50th percentile: {recency_q50}\")\n",
    "print(f\"   75th percentile: {recency_q75}\\n\")\n",
    "\n",
    "print(\"Frequency:\")\n",
    "print(f\"   25th percentile: {frequency_q25}\")\n",
    "print(f\"   50th percentile: {frequency_q50}\")\n",
    "print(f\"   75th percentile: {frequency_q75}\\n\")\n",
    "\n",
    "print(\"Monetary:\")\n",
    "print(f\"   25th percentile: {monetary_q25}\")\n",
    "print(f\"   50th percentile: {monetary_q50}\")\n",
    "print(f\"   75th percentile: {monetary_q75}\\n\")\n"
   ]
  },
  {
   "cell_type": "code",
   "execution_count": 3,
   "id": "881c2d94-b735-4b07-a82b-a5b306ca2009",
   "metadata": {
    "execution": {
     "iopub.execute_input": "2025-04-11T00:50:11.084841Z",
     "iopub.status.busy": "2025-04-11T00:50:11.084393Z",
     "iopub.status.idle": "2025-04-11T00:50:16.542409Z",
     "shell.execute_reply": "2025-04-11T00:50:16.541696Z",
     "shell.execute_reply.started": "2025-04-11T00:50:11.084805Z"
    },
    "executionRoleArn": "arn:aws:iam::140023401954:role/service-role/AmazonEMRStudio_RuntimeRole_1743982912962",
    "tags": []
   },
   "outputs": [
    {
     "data": {
      "application/vnd.jupyter.widget-view+json": {
       "model_id": "87a30200b15046c99096f19b8cf82dc7",
       "version_major": 2,
       "version_minor": 0
      },
      "text/plain": [
       "VBox()"
      ]
     },
     "metadata": {},
     "output_type": "display_data"
    },
    {
     "data": {
      "application/vnd.jupyter.widget-view+json": {
       "model_id": "",
       "version_major": 2,
       "version_minor": 0
      },
      "text/plain": [
       "FloatProgress(value=0.0, bar_style='info', description='Progress:', layout=Layout(height='25px', width='50%'),…"
      ]
     },
     "metadata": {},
     "output_type": "display_data"
    },
    {
     "name": "stdout",
     "output_type": "stream",
     "text": [
      "+----------+------------------------------------------------------------------+\n",
      "|CustomerID|scaled_features                                                   |\n",
      "+----------+------------------------------------------------------------------+\n",
      "|12626     |[-0.6906914279334252,0.12404818683839786,0.1482353600495279]      |\n",
      "|17809     |[-0.7607374691812382,0.2121443998542179,0.0965988742467065]       |\n",
      "|14837     |[-0.030257324739759502,-0.022778834854635572,-0.02786866116119202]|\n",
      "|13483     |[-0.270415180446547,-0.11087504787045563,-0.08133279592946106]    |\n",
      "|17754     |[-0.9208427063190966,0.006586569483971114,-0.020501383028714862]  |\n",
      "|13508     |[1.510755582712127,-0.11087504787045563,-0.08237326986075005]     |\n",
      "|16706     |[-0.5505993454377991,-0.05214423919324226,-0.0668483501839109]    |\n",
      "|13504     |[-0.28042175776766315,-0.11087504787045563,-0.07582079936939125]  |\n",
      "|14944     |[-0.6306519640067283,0.18277899551561122,0.12149160194706428]     |\n",
      "|15594     |[-0.7707440465023544,0.006586569483971114,-0.02353671862397666]   |\n",
      "|17346     |[-0.8908229743557481,0.30024061287003795,0.009974194070070854]    |\n",
      "|14030     |[-0.7407243145390059,0.09468278249979117,-0.0032572192291159914]  |\n",
      "|15216     |[-0.05027047938199179,-0.11087504787045563,-0.08288234750435312]  |\n",
      "|17396     |[-0.5305861907955668,0.09468278249979117,0.17339945412079727]     |\n",
      "|17774     |[0.039788716508053525,-0.022778834854635572,-0.04219475081301179] |\n",
      "|15491     |[0.029782139186937378,0.0359519738225778,0.023520548235759532]    |\n",
      "|13994     |[-0.8908229743557481,0.0359519738225778,-0.0026181266271257477]   |\n",
      "|12566     |[-0.06027705670310794,-0.11087504787045563,-0.07384683929273406]  |\n",
      "|12447     |[1.510755582712127,-0.11087504787045563,-0.0694242051224203]      |\n",
      "|14367     |[-0.8407900877501674,0.32960601720864463,0.24285011480780855]     |\n",
      "+----------+------------------------------------------------------------------+\n",
      "only showing top 20 rows"
     ]
    }
   ],
   "source": [
    "from pyspark.ml.feature import VectorAssembler, StandardScaler\n",
    "\n",
    "# Step 1: Assemble the RFM columns into a feature vector\n",
    "assembler = VectorAssembler(inputCols=[\"Recency\", \"Frequency\", \"Monetary\"], outputCol=\"rfm_features\")\n",
    "rfm_vector = assembler.transform(df)\n",
    "\n",
    "# Step 2: Apply StandardScaler to normalize the RFM features\n",
    "scaler = StandardScaler(inputCol=\"rfm_features\", outputCol=\"scaled_features\", withStd=True, withMean=True)\n",
    "scaler_model = scaler.fit(rfm_vector)\n",
    "scaled_data = scaler_model.transform(rfm_vector)\n",
    "\n",
    "# Show the resulting DataFrame with the scaled features\n",
    "scaled_data.select(\"CustomerID\", \"scaled_features\").show(truncate=False)"
   ]
  },
  {
   "cell_type": "code",
   "execution_count": 4,
   "id": "6fdc1e5e-22a9-4539-b88b-a82a96190f2e",
   "metadata": {
    "execution": {
     "iopub.execute_input": "2025-04-11T00:50:22.835193Z",
     "iopub.status.busy": "2025-04-11T00:50:22.834771Z",
     "iopub.status.idle": "2025-04-11T00:50:30.341695Z",
     "shell.execute_reply": "2025-04-11T00:50:30.340906Z",
     "shell.execute_reply.started": "2025-04-11T00:50:22.835163Z"
    },
    "executionRoleArn": "arn:aws:iam::140023401954:role/service-role/AmazonEMRStudio_RuntimeRole_1743982912962",
    "tags": []
   },
   "outputs": [
    {
     "data": {
      "application/vnd.jupyter.widget-view+json": {
       "model_id": "bf799d9c4efa407db6e63ee5aca4eacf",
       "version_major": 2,
       "version_minor": 0
      },
      "text/plain": [
       "VBox()"
      ]
     },
     "metadata": {},
     "output_type": "display_data"
    },
    {
     "data": {
      "application/vnd.jupyter.widget-view+json": {
       "model_id": "",
       "version_major": 2,
       "version_minor": 0
      },
      "text/plain": [
       "FloatProgress(value=0.0, bar_style='info', description='Progress:', layout=Layout(height='25px', width='50%'),…"
      ]
     },
     "metadata": {},
     "output_type": "display_data"
    },
    {
     "name": "stdout",
     "output_type": "stream",
     "text": [
      "K-Means with K=4:\n",
      "+-------+---------+--------+--------------+\n",
      "|Recency|Frequency|Monetary|K-MeansCluster|\n",
      "+-------+---------+--------+--------------+\n",
      "|     23|        9| 6620.48|             1|\n",
      "|     16|       12| 5162.91|             1|\n",
      "|     89|        4|  1649.5|             1|\n",
      "|     65|        1|  140.34|             1|\n",
      "|      0|        5| 1857.46|             1|\n",
      "|    243|        1|  110.97|             0|\n",
      "|     37|        3|   549.2|             1|\n",
      "|     64|        1|  295.93|             1|\n",
      "|     29|       11| 5865.57|             1|\n",
      "|     15|        5| 1771.78|             1|\n",
      "|      3|       15| 2717.71|             1|\n",
      "|     18|        8| 2344.22|             1|\n",
      "|     87|        1|    96.6|             1|\n",
      "|     39|        8|  7330.8|             1|\n",
      "|     96|        4| 1245.11|             3|\n",
      "|     95|        6| 3100.09|             3|\n",
      "|      3|        6| 2362.26|             1|\n",
      "|     86|        1|  351.65|             1|\n",
      "|    243|        1|  476.49|             0|\n",
      "|      8|       16| 9291.22|             1|\n",
      "+-------+---------+--------+--------------+\n",
      "only showing top 20 rows"
     ]
    }
   ],
   "source": [
    "# 1. K-MEANS \n",
    "\n",
    "from pyspark.ml.clustering import KMeans\n",
    "\n",
    "print(\"K-Means with K=4:\")\n",
    "kmeans = KMeans(k=4, seed=42, featuresCol=\"scaled_features\", predictionCol=\"prediction\")\n",
    "model = kmeans.fit(scaled_data)\n",
    "predictions = model.transform(scaled_data)\n",
    "\n",
    "# Add cluster labels to RFM data\n",
    "rfm_kmeans = predictions.select(\"Recency\", \"Frequency\", \"Monetary\", \"prediction\") \\\n",
    "                        .withColumnRenamed(\"prediction\", \"K-MeansCluster\")\n",
    "\n",
    "rfm_kmeans.show()\n"
   ]
  },
  {
   "cell_type": "code",
   "execution_count": 5,
   "id": "1d164923-d8c8-43dd-be44-b9427ca9ea9f",
   "metadata": {
    "execution": {
     "iopub.execute_input": "2025-04-11T00:50:43.106815Z",
     "iopub.status.busy": "2025-04-11T00:50:43.106354Z",
     "iopub.status.idle": "2025-04-11T00:50:48.566231Z",
     "shell.execute_reply": "2025-04-11T00:50:48.565494Z",
     "shell.execute_reply.started": "2025-04-11T00:50:43.106780Z"
    },
    "executionRoleArn": "arn:aws:iam::140023401954:role/service-role/AmazonEMRStudio_RuntimeRole_1743982912962",
    "tags": []
   },
   "outputs": [
    {
     "data": {
      "application/vnd.jupyter.widget-view+json": {
       "model_id": "cc58a6a6c4364b5f82ad7f5bb0606a74",
       "version_major": 2,
       "version_minor": 0
      },
      "text/plain": [
       "VBox()"
      ]
     },
     "metadata": {},
     "output_type": "display_data"
    },
    {
     "data": {
      "application/vnd.jupyter.widget-view+json": {
       "model_id": "",
       "version_major": 2,
       "version_minor": 0
      },
      "text/plain": [
       "FloatProgress(value=0.0, bar_style='info', description='Progress:', layout=Layout(height='25px', width='50%'),…"
      ]
     },
     "metadata": {},
     "output_type": "display_data"
    },
    {
     "name": "stdout",
     "output_type": "stream",
     "text": [
      "Cluster Counts:\n",
      "+--------------+-----+\n",
      "|K-MeansCluster|count|\n",
      "+--------------+-----+\n",
      "|             0|  625|\n",
      "|             1| 2898|\n",
      "|             2|    1|\n",
      "|             3|  814|\n",
      "+--------------+-----+\n",
      "\n",
      "Cluster-wise Recency Summary Stats:\n",
      "+--------------+------------------+-----------+-----------+\n",
      "|K-MeansCluster|avg_Recency       |min_Recency|max_Recency|\n",
      "+--------------+------------------+-----------+-----------+\n",
      "|0             |293.8192          |225        |373        |\n",
      "|1             |31.559351276742582|0          |92         |\n",
      "|2             |0.0               |0          |0          |\n",
      "|3             |152.46068796068795|92         |222        |\n",
      "+--------------+------------------+-----------+-----------+\n",
      "\n",
      "Cluster-wise Frequency Summary Stats:\n",
      "+--------------+------------------+-------------+-------------+\n",
      "|K-MeansCluster|avg_Frequency     |min_Frequency|max_Frequency|\n",
      "+--------------+------------------+-------------+-------------+\n",
      "|0             |1.3552            |1            |34           |\n",
      "|1             |5.478260869565218 |1            |210          |\n",
      "|2             |2189.0            |2189         |2189         |\n",
      "|3             |2.2174447174447174|1            |13           |\n",
      "+--------------+------------------+-------------+-------------+\n",
      "\n",
      "Cluster-wise Monetary Summary Stats:\n",
      "+--------------+-----------------+------------+------------+\n",
      "|K-MeansCluster|avg_Monetary     |min_Monetary|max_Monetary|\n",
      "+--------------+-----------------+------------+------------+\n",
      "|0             |609.1171680000001|3.75        |77183.6     |\n",
      "|1             |2679.604230503795|0.0         |278990.18   |\n",
      "|2             |1772220.83       |1772220.83  |1772220.83  |\n",
      "|3             |798.1129606879615|2.9         |39916.5     |\n",
      "+--------------+-----------------+------------+------------+\n",
      "\n",
      "Cluster Centroids (in scaled feature space):\n",
      "Cluster 0: [ 2.01928184 -0.10044446 -0.0647257 ]\n",
      "Cluster 1: [-0.60504162  0.02063089  0.00862424]\n",
      "Cluster 2: [-0.92084271 64.14062965 62.69713346]\n",
      "Cluster 3: [ 0.60476696 -0.07512429 -0.05803026]\n",
      "Silhouette Score: 0.7255"
     ]
    }
   ],
   "source": [
    "from pyspark.sql.functions import col, avg, min, max\n",
    "from pyspark.ml.evaluation import ClusteringEvaluator\n",
    "\n",
    "# 1. Count of samples in each cluster\n",
    "print(\"Cluster Counts:\")\n",
    "rfm_kmeans.groupBy(\"K-MeansCluster\").count().orderBy(\"K-MeansCluster\").show()\n",
    "\n",
    "# 2. Statistics (mean, min, max) for each cluster\n",
    "print(\"Cluster-wise Recency Summary Stats:\")\n",
    "rfm_kmeans.groupBy(\"K-MeansCluster\") \\\n",
    "    .agg(\n",
    "        avg(\"Recency\").alias(\"avg_Recency\"),\n",
    "        min(\"Recency\").alias(\"min_Recency\"),\n",
    "        max(\"Recency\").alias(\"max_Recency\")\n",
    "    ) \\\n",
    "    .orderBy(\"K-MeansCluster\") \\\n",
    "    .show(truncate=False)\n",
    "\n",
    "# Frequency summary\n",
    "print(\"Cluster-wise Frequency Summary Stats:\")\n",
    "rfm_kmeans.groupBy(\"K-MeansCluster\") \\\n",
    "    .agg(\n",
    "        avg(\"Frequency\").alias(\"avg_Frequency\"),\n",
    "        min(\"Frequency\").alias(\"min_Frequency\"),\n",
    "        max(\"Frequency\").alias(\"max_Frequency\")\n",
    "    ) \\\n",
    "    .orderBy(\"K-MeansCluster\") \\\n",
    "    .show(truncate=False)\n",
    "\n",
    "# Monetary summary\n",
    "print(\"Cluster-wise Monetary Summary Stats:\")\n",
    "rfm_kmeans.groupBy(\"K-MeansCluster\") \\\n",
    "    .agg(\n",
    "        avg(\"Monetary\").alias(\"avg_Monetary\"),\n",
    "        min(\"Monetary\").alias(\"min_Monetary\"),\n",
    "        max(\"Monetary\").alias(\"max_Monetary\")\n",
    "    ) \\\n",
    "    .orderBy(\"K-MeansCluster\") \\\n",
    "    .show(truncate=False)\n",
    "\n",
    "# 3. Centroids of the clusters\n",
    "# model.clusterCenters returns an array of Vectors, one per cluster\n",
    "print(\"Cluster Centroids (in scaled feature space):\")\n",
    "centroids = model.clusterCenters()\n",
    "for idx, centroid in enumerate(centroids):\n",
    "    print(f\"Cluster {idx}: {centroid}\")\n",
    "\n",
    "# 4. Compute Silhouette Score using scaled features and cluster predictions\n",
    "evaluator = ClusteringEvaluator(featuresCol=\"scaled_features\", predictionCol=\"prediction\",\n",
    "                                metricName=\"silhouette\", distanceMeasure=\"squaredEuclidean\")\n",
    "\n",
    "silhouette = evaluator.evaluate(predictions)\n",
    "print(f\"Silhouette Score: {silhouette:.4f}\")\n"
   ]
  },
  {
   "cell_type": "code",
   "execution_count": 8,
   "id": "921dfe48-650a-4750-99e6-10f7058ce66a",
   "metadata": {
    "execution": {
     "iopub.execute_input": "2025-04-11T00:52:03.384205Z",
     "iopub.status.busy": "2025-04-11T00:52:03.383768Z",
     "iopub.status.idle": "2025-04-11T00:52:04.791077Z",
     "shell.execute_reply": "2025-04-11T00:52:04.790374Z",
     "shell.execute_reply.started": "2025-04-11T00:52:03.384173Z"
    },
    "executionRoleArn": "arn:aws:iam::140023401954:role/service-role/AmazonEMRStudio_RuntimeRole_1743982912962",
    "tags": []
   },
   "outputs": [
    {
     "data": {
      "application/vnd.jupyter.widget-view+json": {
       "model_id": "518cda77826649928f782a1ae31c622d",
       "version_major": 2,
       "version_minor": 0
      },
      "text/plain": [
       "VBox()"
      ]
     },
     "metadata": {},
     "output_type": "display_data"
    },
    {
     "data": {
      "application/vnd.jupyter.widget-view+json": {
       "model_id": "",
       "version_major": 2,
       "version_minor": 0
      },
      "text/plain": [
       "FloatProgress(value=0.0, bar_style='info', description='Progress:', layout=Layout(height='25px', width='50%'),…"
      ]
     },
     "metadata": {},
     "output_type": "display_data"
    },
    {
     "name": "stdout",
     "output_type": "stream",
     "text": [
      "Cluster-wise Average RFM Values:\n",
      "+--------------+-----------+-------------+------------+\n",
      "|K-MeansCluster|Avg_Recency|Avg_Frequency|Avg_Monetary|\n",
      "+--------------+-----------+-------------+------------+\n",
      "|0             |293.82     |1.36         |609.12      |\n",
      "|1             |31.56      |5.48         |2679.6      |\n",
      "|2             |0.0        |2189.0       |1772220.83  |\n",
      "|3             |152.46     |2.22         |798.11      |\n",
      "+--------------+-----------+-------------+------------+\n",
      "\n",
      "\n",
      "Cluster Interpretation:\n",
      "   K-MeansCluster  Avg_Recency  ...  Avg_Monetary                Cluster_Label\n",
      "0               0       293.82  ...        609.12  Churned Mid-Value Customers\n",
      "1               1        31.56  ...       2679.60    Engaged Regular Customers\n",
      "2               2         0.00  ...    1772220.83   Loyal High-Value Customers\n",
      "3               3       152.46  ...        798.11                New Customers\n",
      "\n",
      "[4 rows x 5 columns]"
     ]
    }
   ],
   "source": [
    "from pyspark.sql.functions import avg, round as rnd, col\n",
    "\n",
    "# Step 1: Compute mean R, F, M for each cluster\n",
    "cluster_stats = rfm_kmeans.groupBy(\"K-MeansCluster\") \\\n",
    "    .agg(\n",
    "        rnd(avg(\"Recency\"), 2).alias(\"Avg_Recency\"),\n",
    "        rnd(avg(\"Frequency\"), 2).alias(\"Avg_Frequency\"),\n",
    "        rnd(avg(\"Monetary\"), 2).alias(\"Avg_Monetary\")\n",
    "    ).orderBy(\"K-MeansCluster\")\n",
    "\n",
    "print(\"Cluster-wise Average RFM Values:\")\n",
    "cluster_stats.show(truncate=False)\n",
    "\n",
    "# Step 2: Convert to Pandas for easier logic building (optional)\n",
    "stats_pd = cluster_stats.toPandas()\n",
    "\n",
    "# Step 3: Manually define cluster labels based on thresholds\n",
    "def label_cluster(row):\n",
    "    \n",
    "    # Loyal Customers\n",
    "    if row['Avg_Recency'] <= recency_q25 and row['Avg_Frequency'] >= frequency_q75 and row['Avg_Monetary'] >= monetary_q75:\n",
    "        return \"Loyal High-Value Customers\"\n",
    "    elif row['Avg_Recency'] <= recency_q25 and (row['Avg_Frequency'] >= frequency_q50 or row['Avg_Monetary'] >= monetary_q50):\n",
    "        return \"Loyal Mid-Value Customers\"\n",
    "\n",
    "    # Regular Customers\n",
    "    elif row['Avg_Recency'] <= recency_q50 and row['Avg_Frequency'] >= frequency_q50 and row['Avg_Monetary'] >= monetary_q50:\n",
    "        return \"Engaged Regular Customers\"\n",
    "    elif row['Avg_Recency'] <= recency_q50 and (row['Avg_Frequency'] >= frequency_q25 or row['Avg_Monetary'] >= monetary_q25):\n",
    "        return \"Passive Regular Customers\"\n",
    "\n",
    "    # At-Risk Customers\n",
    "    elif row['Avg_Recency'] >= recency_q75 and row['Avg_Frequency'] <= frequency_q25 and row['Avg_Monetary'] <= monetary_q25:\n",
    "        return \"Churned Low-Value Customers\"\n",
    "    elif row['Avg_Recency'] >= recency_q75 and (row['Avg_Frequency'] <= frequency_q50 and row['Avg_Monetary'] <= monetary_q50):\n",
    "        return \"Churned Mid-Value Customers\"\n",
    "\n",
    "    # VIP or New Customers \n",
    "    elif row['Avg_Recency'] >= recency_q50 and row['Avg_Frequency'] >= frequency_q50 and row['Avg_Monetary'] >= 164339.33:\n",
    "            return \"VIP Customers\"\n",
    "    else:\n",
    "        return \"New Customers\"\n",
    "\n",
    "# Apply labels\n",
    "stats_pd['Cluster_Label'] = stats_pd.apply(label_cluster, axis=1)\n",
    "\n",
    "print(\"\\nCluster Interpretation:\")\n",
    "print(stats_pd[['K-MeansCluster', 'Avg_Recency', 'Avg_Frequency', 'Avg_Monetary', 'Cluster_Label']])\n"
   ]
  },
  {
   "cell_type": "code",
   "execution_count": 9,
   "id": "3a7b8f98-cbe6-4f0a-865d-88b9f1314149",
   "metadata": {
    "execution": {
     "iopub.execute_input": "2025-04-11T00:53:21.297767Z",
     "iopub.status.busy": "2025-04-11T00:53:21.297311Z",
     "iopub.status.idle": "2025-04-11T00:53:35.173932Z",
     "shell.execute_reply": "2025-04-11T00:53:35.123001Z",
     "shell.execute_reply.started": "2025-04-11T00:53:21.297735Z"
    },
    "executionRoleArn": "arn:aws:iam::140023401954:role/service-role/AmazonEMRStudio_RuntimeRole_1743982912962",
    "tags": []
   },
   "outputs": [
    {
     "data": {
      "application/vnd.jupyter.widget-view+json": {
       "model_id": "c3ef66b136d94ee5ae2d8be0021c02bc",
       "version_major": 2,
       "version_minor": 0
      },
      "text/plain": [
       "VBox()"
      ]
     },
     "metadata": {},
     "output_type": "display_data"
    },
    {
     "data": {
      "application/vnd.jupyter.widget-view+json": {
       "model_id": "",
       "version_major": 2,
       "version_minor": 0
      },
      "text/plain": [
       "FloatProgress(value=0.0, bar_style='info', description='Progress:', layout=Layout(height='25px', width='50%'),…"
      ]
     },
     "metadata": {},
     "output_type": "display_data"
    },
    {
     "name": "stdout",
     "output_type": "stream",
     "text": [
      "Gaussian Mixture Model with K=4:\n",
      "+-------+---------+--------+----------+\n",
      "|Recency|Frequency|Monetary|GMMCluster|\n",
      "+-------+---------+--------+----------+\n",
      "|     23|        9| 6620.48|         3|\n",
      "|     16|       12| 5162.91|         3|\n",
      "|     89|        4|  1649.5|         2|\n",
      "|     65|        1|  140.34|         2|\n",
      "|      0|        5| 1857.46|         3|\n",
      "|    243|        1|  110.97|         2|\n",
      "|     37|        3|   549.2|         3|\n",
      "|     64|        1|  295.93|         2|\n",
      "|     29|       11| 5865.57|         3|\n",
      "|     15|        5| 1771.78|         3|\n",
      "|      3|       15| 2717.71|         3|\n",
      "|     18|        8| 2344.22|         3|\n",
      "|     87|        1|    96.6|         2|\n",
      "|     39|        8|  7330.8|         3|\n",
      "|     96|        4| 1245.11|         2|\n",
      "|     95|        6| 3100.09|         2|\n",
      "|      3|        6| 2362.26|         3|\n",
      "|     86|        1|  351.65|         2|\n",
      "|    243|        1|  476.49|         2|\n",
      "|      8|       16| 9291.22|         3|\n",
      "+-------+---------+--------+----------+\n",
      "only showing top 20 rows"
     ]
    }
   ],
   "source": [
    "# 2. GAUSSIAN MIXTURE MODEL \n",
    "\n",
    "from pyspark.ml.clustering import GaussianMixture\n",
    "\n",
    "print(\"Gaussian Mixture Model with K=4:\")\n",
    "gmm = GaussianMixture(k=4, seed=42, featuresCol=\"scaled_features\", predictionCol=\"prediction\")\n",
    "model = gmm.fit(scaled_data)\n",
    "predictions = model.transform(scaled_data)\n",
    "\n",
    "# Add cluster labels to RFM data\n",
    "rfm_gmm = predictions.select(\"Recency\", \"Frequency\", \"Monetary\", \"prediction\") \\\n",
    "                     .withColumnRenamed(\"prediction\", \"GMMCluster\")\n",
    "\n",
    "rfm_gmm.show()"
   ]
  },
  {
   "cell_type": "code",
   "execution_count": 10,
   "id": "39e0c284-caa4-4ad2-9624-be8c77e0903f",
   "metadata": {
    "execution": {
     "iopub.execute_input": "2025-04-11T00:54:21.363336Z",
     "iopub.status.busy": "2025-04-11T00:54:21.362860Z",
     "iopub.status.idle": "2025-04-11T00:54:24.840894Z",
     "shell.execute_reply": "2025-04-11T00:54:24.840255Z",
     "shell.execute_reply.started": "2025-04-11T00:54:21.363302Z"
    },
    "executionRoleArn": "arn:aws:iam::140023401954:role/service-role/AmazonEMRStudio_RuntimeRole_1743982912962",
    "tags": []
   },
   "outputs": [
    {
     "data": {
      "application/vnd.jupyter.widget-view+json": {
       "model_id": "b9e70f6e1a5041b2a9881e354bfb0d1d",
       "version_major": 2,
       "version_minor": 0
      },
      "text/plain": [
       "VBox()"
      ]
     },
     "metadata": {},
     "output_type": "display_data"
    },
    {
     "data": {
      "application/vnd.jupyter.widget-view+json": {
       "model_id": "",
       "version_major": 2,
       "version_minor": 0
      },
      "text/plain": [
       "FloatProgress(value=0.0, bar_style='info', description='Progress:', layout=Layout(height='25px', width='50%'),…"
      ]
     },
     "metadata": {},
     "output_type": "display_data"
    },
    {
     "name": "stdout",
     "output_type": "stream",
     "text": [
      "Cluster Counts:\n",
      "+----------+-----+\n",
      "|GMMCluster|count|\n",
      "+----------+-----+\n",
      "|         0|  117|\n",
      "|         1|   20|\n",
      "|         2| 2210|\n",
      "|         3| 1991|\n",
      "+----------+-----+\n",
      "\n",
      "Cluster-wise Recency Summary Stats:\n",
      "+----------+------------------+-----------+-----------+\n",
      "|GMMCluster|avg_Recency       |min_Recency|max_Recency|\n",
      "+----------+------------------+-----------+-----------+\n",
      "|0         |52.794871794871796|0          |217        |\n",
      "|1         |89.7              |0          |372        |\n",
      "|2         |158.81764705882352|0          |373        |\n",
      "|3         |20.21145153189352 |0          |78         |\n",
      "+----------+------------------+-----------+-----------+\n",
      "\n",
      "Cluster-wise Frequency Summary Stats:\n",
      "+----------+------------------+-------------+-------------+\n",
      "|GMMCluster|avg_Frequency     |min_Frequency|max_Frequency|\n",
      "+----------+------------------+-------------+-------------+\n",
      "|0         |21.47008547008547 |1            |201          |\n",
      "|1         |155.05            |1            |2189         |\n",
      "|2         |1.8683257918552036|1            |11           |\n",
      "|3         |5.5123053741838275|1            |57           |\n",
      "+----------+------------------+-------------+-------------+\n",
      "\n",
      "Cluster-wise Monetary Summary Stats:\n",
      "+----------+------------------+------------+------------+\n",
      "|GMMCluster|avg_Monetary      |min_Monetary|max_Monetary|\n",
      "+----------+------------------+------------+------------+\n",
      "|0         |13275.446752136755|70.02       |143311.09   |\n",
      "|1         |164339.326        |319.5       |1772220.83  |\n",
      "|2         |652.1507375565596 |2.9         |8099.49     |\n",
      "|3         |2153.0934957307827|0.0         |39275.6     |\n",
      "+----------+------------------+------------+------------+\n",
      "\n",
      "Cluster Means (in scaled feature space):\n",
      "Cluster 0 Mean: [-0.3899510410591604,0.5722878894887836,0.46666933311889397]\n",
      "Cluster 1 Mean: [0.02071885360268621,1.8928339796514688,3.1999738352997324]\n",
      "Cluster 2 Mean: [0.513527162179194,-0.07487015835689019,-0.054192294055007834]\n",
      "Cluster 3 Mean: [-0.7063074711089463,0.04120136684942294,0.0029413773256166133]\n",
      "\n",
      "Cluster Covariance Matrices:\n",
      "Cluster 0 Covariance:\n",
      "DenseMatrix([[ 0.35502505, -0.25127889, -0.20075155],\n",
      "             [-0.25127889,  8.45087364,  8.16803777],\n",
      "             [-0.20075155,  8.16803777,  8.10293149]])\n",
      "Cluster 1 Covariance:\n",
      "DenseMatrix([[ 1.74992063, -1.60891672, -2.23546097],\n",
      "             [-1.60891672, 47.2809834 , 43.60786145],\n",
      "             [-2.23546097, 43.60786145, 48.97065281]])\n",
      "Cluster 2 Covariance:\n",
      "DenseMatrix([[ 1.08576254, -0.0241665 , -0.01818653],\n",
      "             [-0.0241665 ,  0.42005832,  0.40984517],\n",
      "             [-0.01818653,  0.40984517,  0.40048188]])\n",
      "Cluster 3 Covariance:\n",
      "DenseMatrix([[ 0.02736129, -0.00930229, -0.00549597],\n",
      "             [-0.00930229,  0.61981538,  0.59692525],\n",
      "             [-0.00549597,  0.59692525,  0.5819923 ]])\n",
      "\n",
      "GMM Log Likelihood: -798.0613\n",
      "GMM Silhouette Score (approx): 0.3905"
     ]
    }
   ],
   "source": [
    "from pyspark.sql.functions import col\n",
    "from pyspark.ml.evaluation import ClusteringEvaluator\n",
    "\n",
    "# 1. Count of samples in each cluster\n",
    "print(\"Cluster Counts:\")\n",
    "rfm_gmm.groupBy(\"GMMCluster\").count().orderBy(\"GMMCluster\").show()\n",
    "\n",
    "# 2. Cluster-wise RFM statistics (mean, min, max)\n",
    "print(\"Cluster-wise Recency Summary Stats:\")\n",
    "rfm_gmm.groupBy(\"GMMCluster\") \\\n",
    "    .agg(\n",
    "        avg(\"Recency\").alias(\"avg_Recency\"),\n",
    "        min(\"Recency\").alias(\"min_Recency\"),\n",
    "        max(\"Recency\").alias(\"max_Recency\")\n",
    "    ) \\\n",
    "    .orderBy(\"GMMCluster\") \\\n",
    "    .show(truncate=False)\n",
    "\n",
    "# Frequency summary\n",
    "print(\"Cluster-wise Frequency Summary Stats:\")\n",
    "rfm_gmm.groupBy(\"GMMCluster\") \\\n",
    "    .agg(\n",
    "        avg(\"Frequency\").alias(\"avg_Frequency\"),\n",
    "        min(\"Frequency\").alias(\"min_Frequency\"),\n",
    "        max(\"Frequency\").alias(\"max_Frequency\")\n",
    "    ) \\\n",
    "    .orderBy(\"GMMCluster\") \\\n",
    "    .show(truncate=False)\n",
    "\n",
    "# Monetary summary\n",
    "print(\"Cluster-wise Monetary Summary Stats:\")\n",
    "rfm_gmm.groupBy(\"GMMCluster\") \\\n",
    "    .agg(\n",
    "        avg(\"Monetary\").alias(\"avg_Monetary\"),\n",
    "        min(\"Monetary\").alias(\"min_Monetary\"),\n",
    "        max(\"Monetary\").alias(\"max_Monetary\")\n",
    "    ) \\\n",
    "    .orderBy(\"GMMCluster\") \\\n",
    "    .show(truncate=False)\n",
    "\n",
    "# 3. Print GMM component means and covariances\n",
    "print(\"Cluster Means (in scaled feature space):\")\n",
    "for idx, mean in enumerate(model.gaussiansDF.select(\"mean\").collect()):\n",
    "    print(f\"Cluster {idx} Mean: {mean['mean']}\")\n",
    "\n",
    "print(\"\\nCluster Covariance Matrices:\")\n",
    "for idx, cov in enumerate(model.gaussiansDF.select(\"cov\").collect()):\n",
    "    print(f\"Cluster {idx} Covariance:\\n{cov['cov']}\")\n",
    "\n",
    "# 4. Evaluate GMM model\n",
    "log_likelihood = model.summary.logLikelihood\n",
    "print(f\"\\nGMM Log Likelihood: {log_likelihood:.4f}\")\n",
    "\n",
    "# 5. Optional: Compute silhouette score using hard cluster labels\n",
    "evaluator = ClusteringEvaluator(featuresCol=\"scaled_features\", predictionCol=\"prediction\",\n",
    "                                metricName=\"silhouette\", distanceMeasure=\"squaredEuclidean\")\n",
    "silhouette = evaluator.evaluate(predictions)\n",
    "print(f\"GMM Silhouette Score (approx): {silhouette:.4f}\")\n"
   ]
  },
  {
   "cell_type": "code",
   "execution_count": 11,
   "id": "90ed478f-6eaf-491d-820d-8ad0bd6e35ca",
   "metadata": {
    "execution": {
     "iopub.execute_input": "2025-04-11T00:54:54.068181Z",
     "iopub.status.busy": "2025-04-11T00:54:54.067764Z",
     "iopub.status.idle": "2025-04-11T00:54:55.494726Z",
     "shell.execute_reply": "2025-04-11T00:54:55.493963Z",
     "shell.execute_reply.started": "2025-04-11T00:54:54.068150Z"
    },
    "executionRoleArn": "arn:aws:iam::140023401954:role/service-role/AmazonEMRStudio_RuntimeRole_1743982912962",
    "tags": []
   },
   "outputs": [
    {
     "data": {
      "application/vnd.jupyter.widget-view+json": {
       "model_id": "f6a1a1ce53c24d6d9c9dcb958f0c1c29",
       "version_major": 2,
       "version_minor": 0
      },
      "text/plain": [
       "VBox()"
      ]
     },
     "metadata": {},
     "output_type": "display_data"
    },
    {
     "data": {
      "application/vnd.jupyter.widget-view+json": {
       "model_id": "",
       "version_major": 2,
       "version_minor": 0
      },
      "text/plain": [
       "FloatProgress(value=0.0, bar_style='info', description='Progress:', layout=Layout(height='25px', width='50%'),…"
      ]
     },
     "metadata": {},
     "output_type": "display_data"
    },
    {
     "name": "stdout",
     "output_type": "stream",
     "text": [
      "Cluster-wise Average RFM Values:\n",
      "+----------+-----------+-------------+------------+\n",
      "|GMMCluster|Avg_Recency|Avg_Frequency|Avg_Monetary|\n",
      "+----------+-----------+-------------+------------+\n",
      "|0         |52.79      |21.47        |13275.45    |\n",
      "|1         |89.7       |155.05       |164339.33   |\n",
      "|2         |158.82     |1.87         |652.15      |\n",
      "|3         |20.21      |5.51         |2153.09     |\n",
      "+----------+-----------+-------------+------------+\n",
      "\n",
      "\n",
      "Cluster Interpretation:\n",
      "   GMMCluster  Avg_Recency  ...  Avg_Monetary                Cluster_Label\n",
      "0           0        52.79  ...      13275.45                New Customers\n",
      "1           1        89.70  ...     164339.33                VIP Customers\n",
      "2           2       158.82  ...        652.15  Churned Mid-Value Customers\n",
      "3           3        20.21  ...       2153.09    Engaged Regular Customers\n",
      "\n",
      "[4 rows x 5 columns]"
     ]
    }
   ],
   "source": [
    "from pyspark.sql.functions import avg, round as rnd, col\n",
    "\n",
    "# Step 1: Compute mean R, F, M for each cluster\n",
    "cluster_stats = rfm_gmm.groupBy(\"GMMCluster\") \\\n",
    "    .agg(\n",
    "        rnd(avg(\"Recency\"), 2).alias(\"Avg_Recency\"),\n",
    "        rnd(avg(\"Frequency\"), 2).alias(\"Avg_Frequency\"),\n",
    "        rnd(avg(\"Monetary\"), 2).alias(\"Avg_Monetary\")\n",
    "    ).orderBy(\"GMMCluster\")\n",
    "\n",
    "print(\"Cluster-wise Average RFM Values:\")\n",
    "cluster_stats.show(truncate=False)\n",
    "\n",
    "# Step 2: Convert to Pandas for easier logic building (optional)\n",
    "stats_pd = cluster_stats.toPandas()\n",
    "\n",
    "# Step 3: Manually define cluster labels based on thresholds\n",
    "def label_cluster(row):\n",
    "    # Loyal Customers\n",
    "    if row['Avg_Recency'] <= recency_q25 and row['Avg_Frequency'] >= frequency_q75 and row['Avg_Monetary'] >= monetary_q75:\n",
    "        return \"Loyal High-Value Customers\"\n",
    "    elif row['Avg_Recency'] <= recency_q25 and (row['Avg_Frequency'] >= frequency_q50 or row['Avg_Monetary'] >= monetary_q50):\n",
    "        return \"Loyal Mid-Value Customers\"\n",
    "\n",
    "    # Regular Customers\n",
    "    elif row['Avg_Recency'] <= recency_q50 and row['Avg_Frequency'] >= frequency_q50 and row['Avg_Monetary'] >= monetary_q50:\n",
    "        return \"Engaged Regular Customers\"\n",
    "    elif row['Avg_Recency'] <= recency_q50 and (row['Avg_Frequency'] >= frequency_q25 or row['Avg_Monetary'] >= monetary_q25):\n",
    "        return \"Passive Regular Customers\"\n",
    "\n",
    "    # At-Risk Customers\n",
    "    elif row['Avg_Recency'] >= recency_q75 and row['Avg_Frequency'] <= frequency_q25 and row['Avg_Monetary'] <= monetary_q25:\n",
    "        return \"Churned Low-Value Customers\"\n",
    "    elif row['Avg_Recency'] >= recency_q75 and (row['Avg_Frequency'] <= frequency_q50 and row['Avg_Monetary'] <= monetary_q50):\n",
    "        return \"Churned Mid-Value Customers\"\n",
    "\n",
    "    # VIP or New Customers \n",
    "    elif row['Avg_Recency'] >= recency_q50 and row['Avg_Frequency'] >= frequency_q50 and row['Avg_Monetary'] >= 164339.33:\n",
    "            return \"VIP Customers\"\n",
    "    else:\n",
    "        return \"New Customers\"\n",
    "\n",
    "# Apply labels\n",
    "stats_pd['Cluster_Label'] = stats_pd.apply(label_cluster, axis=1)\n",
    "\n",
    "print(\"\\nCluster Interpretation:\")\n",
    "print(stats_pd[['GMMCluster', 'Avg_Recency', 'Avg_Frequency', 'Avg_Monetary', 'Cluster_Label']])\n"
   ]
  },
  {
   "cell_type": "code",
   "execution_count": 12,
   "id": "cdb2ecdb-26f7-473a-b120-4283fbcc31a0",
   "metadata": {
    "execution": {
     "iopub.execute_input": "2025-04-11T00:55:28.931896Z",
     "iopub.status.busy": "2025-04-11T00:55:28.931450Z",
     "iopub.status.idle": "2025-04-11T00:55:30.363128Z",
     "shell.execute_reply": "2025-04-11T00:55:30.362445Z",
     "shell.execute_reply.started": "2025-04-11T00:55:28.931864Z"
    },
    "executionRoleArn": "arn:aws:iam::140023401954:role/service-role/AmazonEMRStudio_RuntimeRole_1743982912962",
    "tags": []
   },
   "outputs": [
    {
     "data": {
      "application/vnd.jupyter.widget-view+json": {
       "model_id": "fdc22dd6be2942648d189179452c5a85",
       "version_major": 2,
       "version_minor": 0
      },
      "text/plain": [
       "VBox()"
      ]
     },
     "metadata": {},
     "output_type": "display_data"
    },
    {
     "data": {
      "application/vnd.jupyter.widget-view+json": {
       "model_id": "",
       "version_major": 2,
       "version_minor": 0
      },
      "text/plain": [
       "FloatProgress(value=0.0, bar_style='info', description='Progress:', layout=Layout(height='25px', width='50%'),…"
      ]
     },
     "metadata": {},
     "output_type": "display_data"
    },
    {
     "name": "stdout",
     "output_type": "stream",
     "text": [
      "+-------+---------+--------+--------------+----------+\n",
      "|Recency|Frequency|Monetary|K-MeansCluster|GMMCluster|\n",
      "+-------+---------+--------+--------------+----------+\n",
      "|     23|        9| 6620.48|             1|         3|\n",
      "|     16|       12| 5162.91|             1|         3|\n",
      "|     89|        4|  1649.5|             1|         2|\n",
      "|     65|        1|  140.34|             1|         2|\n",
      "|      0|        5| 1857.46|             1|         3|\n",
      "|    243|        1|  110.97|             0|         2|\n",
      "|     37|        3|   549.2|             1|         3|\n",
      "|     64|        1|  295.93|             1|         2|\n",
      "|     29|       11| 5865.57|             1|         3|\n",
      "|     15|        5| 1771.78|             1|         3|\n",
      "|      3|       15| 2717.71|             1|         3|\n",
      "|     18|        8| 2344.22|             1|         3|\n",
      "|     87|        1|    96.6|             1|         2|\n",
      "|     39|        8|  7330.8|             1|         3|\n",
      "|     96|        4| 1245.11|             3|         2|\n",
      "|     95|        6| 3100.09|             3|         2|\n",
      "|      3|        6| 2362.26|             1|         3|\n",
      "|     86|        1|  351.65|             1|         2|\n",
      "|    243|        1|  476.49|             0|         2|\n",
      "|      8|       16| 9291.22|             1|         3|\n",
      "+-------+---------+--------+--------------+----------+\n",
      "only showing top 20 rows"
     ]
    }
   ],
   "source": [
    "# Join the DataFrames on Recency, Frequency, Monetary\n",
    "rfm_combined = rfm_kmeans \\\n",
    "    .join(rfm_gmm, on=[\"Recency\", \"Frequency\", \"Monetary\"])\n",
    "\n",
    "# Show the final DataFrame\n",
    "rfm_combined.show()\n"
   ]
  },
  {
   "cell_type": "code",
   "execution_count": 13,
   "id": "99f9c42b-b263-4c25-857b-f983dd316239",
   "metadata": {
    "execution": {
     "iopub.execute_input": "2025-04-11T00:55:36.988708Z",
     "iopub.status.busy": "2025-04-11T00:55:36.988266Z",
     "iopub.status.idle": "2025-04-11T00:55:39.437781Z",
     "shell.execute_reply": "2025-04-11T00:55:39.437125Z",
     "shell.execute_reply.started": "2025-04-11T00:55:36.988677Z"
    },
    "executionRoleArn": "arn:aws:iam::140023401954:role/service-role/AmazonEMRStudio_RuntimeRole_1743982912962",
    "tags": []
   },
   "outputs": [
    {
     "data": {
      "application/vnd.jupyter.widget-view+json": {
       "model_id": "bc02b44585874f4290e0383e022381a7",
       "version_major": 2,
       "version_minor": 0
      },
      "text/plain": [
       "VBox()"
      ]
     },
     "metadata": {},
     "output_type": "display_data"
    },
    {
     "data": {
      "application/vnd.jupyter.widget-view+json": {
       "model_id": "",
       "version_major": 2,
       "version_minor": 0
      },
      "text/plain": [
       "FloatProgress(value=0.0, bar_style='info', description='Progress:', layout=Layout(height='25px', width='50%'),…"
      ]
     },
     "metadata": {},
     "output_type": "display_data"
    }
   ],
   "source": [
    "# Save the final DataFrame as a CSV file to the specified S3 path\n",
    "rfm_combined.write \\\n",
    "    .option(\"header\", \"true\") \\\n",
    "    .csv(\"s3://projectcustomer/output/rfm_combined.csv\")"
   ]
  },
  {
   "cell_type": "code",
   "execution_count": null,
   "id": "a1d20037-0553-43b8-a82d-6e43684e852f",
   "metadata": {},
   "outputs": [],
   "source": []
  }
 ],
 "metadata": {
  "kernelspec": {
   "display_name": "PySpark",
   "language": "python",
   "name": "spark_magic_pyspark"
  },
  "language_info": {
   "codemirror_mode": {
    "name": "python",
    "version": 3
   },
   "file_extension": ".py",
   "mimetype": "text/x-python",
   "name": "pyspark",
   "pygments_lexer": "python3"
  }
 },
 "nbformat": 4,
 "nbformat_minor": 5
}
