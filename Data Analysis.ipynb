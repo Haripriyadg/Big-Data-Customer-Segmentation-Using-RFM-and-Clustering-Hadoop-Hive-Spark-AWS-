{
 "cells": [
  {
   "cell_type": "code",
   "execution_count": 1,
   "id": "76153f15-0e13-476c-9cba-0d2d4730fb43",
   "metadata": {
    "execution": {
     "iopub.execute_input": "2025-04-12T21:50:06.047694Z",
     "iopub.status.busy": "2025-04-12T21:50:06.047299Z",
     "iopub.status.idle": "2025-04-12T21:50:37.868666Z",
     "shell.execute_reply": "2025-04-12T21:50:37.868088Z",
     "shell.execute_reply.started": "2025-04-12T21:50:06.047663Z"
    },
    "executionRoleArn": "arn:aws:iam::867344474111:role/service-role/AmazonEMRStudio_RuntimeRole_1743529043363",
    "tags": []
   },
   "outputs": [
    {
     "data": {
      "application/vnd.jupyter.widget-view+json": {
       "model_id": "b70c37e361bf4cc9b70993cd1aad41a4",
       "version_major": 2,
       "version_minor": 0
      },
      "text/plain": [
       "VBox()"
      ]
     },
     "metadata": {},
     "output_type": "display_data"
    },
    {
     "name": "stdout",
     "output_type": "stream",
     "text": [
      "Starting Spark application\n"
     ]
    },
    {
     "data": {
      "text/html": [
       "<table>\n",
       "    <tr><th>ID</th><th>Kind</th><th>State</th><th>Spark UI</th><th>Driver log</th><th>User</th><th>Current session?</th></tr><tr><td>0</td><td>pyspark</td><td>idle</td><td><a target=\"_blank\" href=\"https://spark-live-ui.emr-serverless.amazonaws.com\" class=\"emr-proxy-link\" emr-runtime=\"emr-serverless\" emr-resource=\"00frmrqdjv173h0e\" application-id=\"00frds5qc6cj1b0d\">Link</a></td><td></td><td>None</td><td>✔</td></tr></table>"
      ],
      "text/plain": [
       "<IPython.core.display.HTML object>"
      ]
     },
     "metadata": {},
     "output_type": "display_data"
    },
    {
     "data": {
      "application/vnd.jupyter.widget-view+json": {
       "model_id": "",
       "version_major": 2,
       "version_minor": 0
      },
      "text/plain": [
       "FloatProgress(value=0.0, bar_style='info', description='Progress:', layout=Layout(height='25px', width='50%'),…"
      ]
     },
     "metadata": {},
     "output_type": "display_data"
    },
    {
     "name": "stdout",
     "output_type": "stream",
     "text": [
      "SparkSession available as 'spark'.\n"
     ]
    },
    {
     "data": {
      "application/vnd.jupyter.widget-view+json": {
       "model_id": "",
       "version_major": 2,
       "version_minor": 0
      },
      "text/plain": [
       "FloatProgress(value=0.0, bar_style='info', description='Progress:', layout=Layout(height='25px', width='50%'),…"
      ]
     },
     "metadata": {},
     "output_type": "display_data"
    },
    {
     "name": "stdout",
     "output_type": "stream",
     "text": [
      "root\n",
      " |-- InvoiceNo: string (nullable = true)\n",
      " |-- StockCode: string (nullable = true)\n",
      " |-- Description: string (nullable = true)\n",
      " |-- InvoiceDate: string (nullable = true)\n",
      " |-- CustomerID: integer (nullable = true)\n",
      " |-- Country: string (nullable = true)\n",
      " |-- Quantity: integer (nullable = true)\n",
      " |-- UnitPrice: double (nullable = true)\n",
      "\n",
      "+---------+---------+---------------------------------+--------------+----------+--------------+--------+---------+\n",
      "|InvoiceNo|StockCode|Description                      |InvoiceDate   |CustomerID|Country       |Quantity|UnitPrice|\n",
      "+---------+---------+---------------------------------+--------------+----------+--------------+--------+---------+\n",
      "|536373   |21068    |VINTAGE BILLBOARD LOVE/HATE MUG  |12/1/2010 9:02|17850     |United Kingdom|6       |1.06     |\n",
      "|536375   |21730    |GLASS STAR FROSTED T-LIGHT HOLDER|12/1/2010 9:32|17850     |United Kingdom|6       |4.25     |\n",
      "|536375   |84029E   |RED WOOLLY HOTTIE WHITE HEART.   |12/1/2010 9:32|17850     |United Kingdom|6       |3.39     |\n",
      "|536378   |84997B   |RED 3 PIECE RETROSPOT CUTLERY SET|12/1/2010 9:37|14688     |United Kingdom|12      |3.75     |\n",
      "|536381   |37444A   |YELLOW BREAKFAST CUP AND SAUCER  |12/1/2010 9:41|15311     |United Kingdom|1       |2.95     |\n",
      "+---------+---------+---------------------------------+--------------+----------+--------------+--------+---------+\n",
      "only showing top 5 rows"
     ]
    }
   ],
   "source": [
    "# Import SparkSession\n",
    "from pyspark.sql import SparkSession\n",
    "\n",
    "# Start Spark session\n",
    "spark = SparkSession.builder.appName(\"OnlineRetailEDA\").getOrCreate()\n",
    "\n",
    "# Load datasets\n",
    "preprocessed_df = spark.read.csv(\"s3://project-tarun/Ecommerce_Final_Cleaned.csv\", header=True, inferSchema=True)\n",
    "raw_df = spark.read.csv(\"s3://project-tarun/OnlineRetail.csv\", header=True, inferSchema=True)\n",
    "\n",
    "# Optional: Clean raw_df column names (remove spaces if needed)\n",
    "from pyspark.sql.functions import col\n",
    "\n",
    "# Selecting original (unscaled) Quantity and UnitPrice from raw_df\n",
    "raw_trimmed = raw_df.select(\n",
    "    col(\"InvoiceNo\").alias(\"InvoiceNo_raw\"),\n",
    "    col(\"StockCode\").alias(\"StockCode_raw\"),\n",
    "    col(\"Quantity\").alias(\"Quantity_raw\"),\n",
    "    col(\"UnitPrice\").alias(\"UnitPrice_raw\")\n",
    ")\n",
    "\n",
    "# Join raw and preprocessed data on InvoiceNo and StockCode\n",
    "df = preprocessed_df.join(\n",
    "    raw_trimmed,\n",
    "    (preprocessed_df.InvoiceNo == raw_trimmed.InvoiceNo_raw) &\n",
    "    (preprocessed_df.StockCode == raw_trimmed.StockCode_raw),\n",
    "    how=\"inner\"\n",
    ")\n",
    "\n",
    "# Replace normalized values with raw ones\n",
    "df = df.drop(\"Quantity\", \"UnitPrice\") \\\n",
    "       .withColumnRenamed(\"Quantity_raw\", \"Quantity\") \\\n",
    "       .withColumnRenamed(\"UnitPrice_raw\", \"UnitPrice\")\n",
    "\n",
    "# Optional: Drop join keys if not needed\n",
    "df = df.drop(\"InvoiceNo_raw\", \"StockCode_raw\")\n",
    "\n",
    "# Show schema and sample rows\n",
    "df.printSchema()\n",
    "df.show(5, truncate=False)\n"
   ]
  },
  {
   "cell_type": "code",
   "execution_count": 2,
   "id": "917c61d8-90f4-456f-ba86-48265ec67294",
   "metadata": {
    "execution": {
     "iopub.execute_input": "2025-04-12T21:51:48.039127Z",
     "iopub.status.busy": "2025-04-12T21:51:48.038760Z",
     "iopub.status.idle": "2025-04-12T21:51:49.395161Z",
     "shell.execute_reply": "2025-04-12T21:51:49.394596Z",
     "shell.execute_reply.started": "2025-04-12T21:51:48.039101Z"
    },
    "executionRoleArn": "arn:aws:iam::867344474111:role/service-role/AmazonEMRStudio_RuntimeRole_1743529043363",
    "tags": []
   },
   "outputs": [
    {
     "data": {
      "application/vnd.jupyter.widget-view+json": {
       "model_id": "bae9a93013754a1e8ce3735e8a8c1343",
       "version_major": 2,
       "version_minor": 0
      },
      "text/plain": [
       "VBox()"
      ]
     },
     "metadata": {},
     "output_type": "display_data"
    },
    {
     "data": {
      "application/vnd.jupyter.widget-view+json": {
       "model_id": "",
       "version_major": 2,
       "version_minor": 0
      },
      "text/plain": [
       "FloatProgress(value=0.0, bar_style='info', description='Progress:', layout=Layout(height='25px', width='50%'),…"
      ]
     },
     "metadata": {},
     "output_type": "display_data"
    }
   ],
   "source": [
    "spark.conf.set(\"spark.sql.legacy.timeParserPolicy\", \"LEGACY\")\n"
   ]
  },
  {
   "cell_type": "code",
   "execution_count": 3,
   "id": "f4991aac-ada1-4753-8f29-eef2d8745a38",
   "metadata": {
    "execution": {
     "iopub.execute_input": "2025-04-12T21:52:11.097814Z",
     "iopub.status.busy": "2025-04-12T21:52:11.097437Z",
     "iopub.status.idle": "2025-04-12T21:52:16.623062Z",
     "shell.execute_reply": "2025-04-12T21:52:16.622512Z",
     "shell.execute_reply.started": "2025-04-12T21:52:11.097790Z"
    },
    "executionRoleArn": "arn:aws:iam::867344474111:role/service-role/AmazonEMRStudio_RuntimeRole_1743529043363",
    "tags": []
   },
   "outputs": [
    {
     "data": {
      "application/vnd.jupyter.widget-view+json": {
       "model_id": "9053849f4fa04711b4128f3ae54f3278",
       "version_major": 2,
       "version_minor": 0
      },
      "text/plain": [
       "VBox()"
      ]
     },
     "metadata": {},
     "output_type": "display_data"
    },
    {
     "data": {
      "application/vnd.jupyter.widget-view+json": {
       "model_id": "",
       "version_major": 2,
       "version_minor": 0
      },
      "text/plain": [
       "FloatProgress(value=0.0, bar_style='info', description='Progress:', layout=Layout(height='25px', width='50%'),…"
      ]
     },
     "metadata": {},
     "output_type": "display_data"
    },
    {
     "name": "stdout",
     "output_type": "stream",
     "text": [
      "+---------+---------+--------------------+----------+--------------+--------+---------+-------------------+\n",
      "|InvoiceNo|StockCode|         Description|CustomerID|       Country|Quantity|UnitPrice|   InvoiceTimestamp|\n",
      "+---------+---------+--------------------+----------+--------------+--------+---------+-------------------+\n",
      "|   536373|    21068|VINTAGE BILLBOARD...|     17850|United Kingdom|       6|     1.06|2010-12-01 09:02:00|\n",
      "|   536375|    21730|GLASS STAR FROSTE...|     17850|United Kingdom|       6|     4.25|2010-12-01 09:32:00|\n",
      "|   536375|   84029E|RED WOOLLY HOTTIE...|     17850|United Kingdom|       6|     3.39|2010-12-01 09:32:00|\n",
      "|   536378|   84997B|RED 3 PIECE RETRO...|     14688|United Kingdom|      12|     3.75|2010-12-01 09:37:00|\n",
      "|   536381|   37444A|YELLOW BREAKFAST ...|     15311|United Kingdom|       1|     2.95|2010-12-01 09:41:00|\n",
      "|   536384|    22470|HEART OF WICKER L...|     18074|United Kingdom|      40|     2.55|2010-12-01 09:53:00|\n",
      "|   536384|    82484|WOOD BLACK BOARD ...|     18074|United Kingdom|       3|     6.45|2010-12-01 09:53:00|\n",
      "|   536385|    22662|LUNCH BAG DOLLY G...|     17420|United Kingdom|      10|     1.65|2010-12-01 09:56:00|\n",
      "|   536388|    22464|HANGING METAL HEA...|     16250|United Kingdom|      12|     1.65|2010-12-01 09:59:00|\n",
      "|   536389|    21791|VINTAGE HEADS AND...|     12431|     Australia|      12|     1.25|2010-12-01 10:03:00|\n",
      "|   536389|    22191|IVORY DINER WALL ...|     12431|     Australia|       2|      8.5|2010-12-01 10:03:00|\n",
      "|   536389|   35004G|SET OF 3 GOLD FLY...|     12431|     Australia|       4|     6.35|2010-12-01 10:03:00|\n",
      "|   536390|    22960|JAM MAKING SET WI...|     17511|United Kingdom|      12|     3.75|2010-12-01 10:19:00|\n",
      "|   536394|    22866|HAND WARMER SCOTT...|     13408|United Kingdom|      96|     1.85|2010-12-01 10:39:00|\n",
      "|   536395|    21314|SMALL GLASS HEART...|     13767|United Kingdom|       8|      2.1|2010-12-01 10:47:00|\n",
      "|   536395|    22867|HAND WARMER BIRD ...|     13767|United Kingdom|      48|      2.1|2010-12-01 10:47:00|\n",
      "|   536396|    82483|WOOD 2 DRAWER CAB...|     17850|United Kingdom|       2|     4.95|2010-12-01 10:51:00|\n",
      "|   536400|    22969|HOMEMADE JAM SCEN...|     13448|United Kingdom|      12|     1.45|2010-12-01 10:53:00|\n",
      "|   536401|    20992|JAZZ HEARTS PURSE...|     15862|United Kingdom|       9|     0.85|2010-12-01 11:21:00|\n",
      "|   536401|    22382|LUNCH BAG SPACEBO...|     15862|United Kingdom|       2|     1.65|2010-12-01 11:21:00|\n",
      "+---------+---------+--------------------+----------+--------------+--------+---------+-------------------+\n",
      "only showing top 20 rows"
     ]
    }
   ],
   "source": [
    "from pyspark.sql.functions import to_timestamp, coalesce\n",
    "\n",
    "df = df.withColumn(\n",
    "    \"InvoiceTimestamp\",\n",
    "    coalesce(\n",
    "        to_timestamp(\"InvoiceDate\", \"MM/dd/yyyy HH:mm\"),\n",
    "        to_timestamp(\"InvoiceDate\", \"MM-dd-yyyy HH:mm:ss\")\n",
    "    )\n",
    ")\n",
    "df = df.drop(\"InvoiceDate\")  # Drop InvoiceDate\n",
    "df.show()\n"
   ]
  },
  {
   "cell_type": "markdown",
   "id": "25562f38-dc83-4a06-91e9-683a73e325e9",
   "metadata": {},
   "source": [
    "EXPLORATORY DATA ANALYSIS (EDA)"
   ]
  },
  {
   "cell_type": "markdown",
   "id": "e76d04cd-fe3a-4f8c-bcc6-037ead48ce0e",
   "metadata": {},
   "source": [
    "Count of Customers per Country"
   ]
  },
  {
   "cell_type": "code",
   "execution_count": 7,
   "id": "52fc40a3-d36d-4878-a041-87cac7dd30ef",
   "metadata": {
    "execution": {
     "iopub.execute_input": "2025-04-12T21:59:15.191215Z",
     "iopub.status.busy": "2025-04-12T21:59:15.190849Z",
     "iopub.status.idle": "2025-04-12T21:59:18.675266Z",
     "shell.execute_reply": "2025-04-12T21:59:18.674645Z",
     "shell.execute_reply.started": "2025-04-12T21:59:15.191190Z"
    },
    "executionRoleArn": "arn:aws:iam::867344474111:role/service-role/AmazonEMRStudio_RuntimeRole_1743529043363",
    "tags": []
   },
   "outputs": [
    {
     "data": {
      "application/vnd.jupyter.widget-view+json": {
       "model_id": "7ca45d414f6a49d994765dc43c46d2b7",
       "version_major": 2,
       "version_minor": 0
      },
      "text/plain": [
       "VBox()"
      ]
     },
     "metadata": {},
     "output_type": "display_data"
    },
    {
     "data": {
      "application/vnd.jupyter.widget-view+json": {
       "model_id": "",
       "version_major": 2,
       "version_minor": 0
      },
      "text/plain": [
       "FloatProgress(value=0.0, bar_style='info', description='Progress:', layout=Layout(height='25px', width='50%'),…"
      ]
     },
     "metadata": {},
     "output_type": "display_data"
    },
    {
     "name": "stdout",
     "output_type": "stream",
     "text": [
      "+---------------+---------------+\n",
      "|        Country|UniqueCustomers|\n",
      "+---------------+---------------+\n",
      "| United Kingdom|           3920|\n",
      "|        Germany|             94|\n",
      "|         France|             88|\n",
      "|          Spain|             30|\n",
      "|        Belgium|             25|\n",
      "|    Switzerland|             22|\n",
      "|       Portugal|             20|\n",
      "|          Italy|             14|\n",
      "|        Finland|             12|\n",
      "|        Austria|             11|\n",
      "|         Norway|             10|\n",
      "|    Netherlands|              9|\n",
      "|        Denmark|              9|\n",
      "|Channel Islands|              9|\n",
      "|      Australia|              9|\n",
      "|         Cyprus|              8|\n",
      "|          Japan|              8|\n",
      "|         Sweden|              8|\n",
      "|         Poland|              6|\n",
      "|    Unspecified|              5|\n",
      "+---------------+---------------+\n",
      "only showing top 20 rows"
     ]
    }
   ],
   "source": [
    "from pyspark.sql import functions as F\n",
    "# Count distinct CustomerID per Country\n",
    "df.groupBy(\"Country\").agg(F.countDistinct(\"CustomerID\").alias(\"UniqueCustomers\")) \\\n",
    "  .orderBy(\"UniqueCustomers\", ascending=False) \\\n",
    "  .show()\n"
   ]
  },
  {
   "cell_type": "markdown",
   "id": "10f62b58-cc43-4d56-83b2-a48f8b243dd7",
   "metadata": {},
   "source": [
    "Total Quantity Sold per Country"
   ]
  },
  {
   "cell_type": "code",
   "execution_count": 8,
   "id": "827878fc-3576-4c16-b18f-0190cd8f7e3f",
   "metadata": {
    "execution": {
     "iopub.execute_input": "2025-04-12T22:00:52.989485Z",
     "iopub.status.busy": "2025-04-12T22:00:52.989107Z",
     "iopub.status.idle": "2025-04-12T22:00:55.583583Z",
     "shell.execute_reply": "2025-04-12T22:00:55.582905Z",
     "shell.execute_reply.started": "2025-04-12T22:00:52.989461Z"
    },
    "executionRoleArn": "arn:aws:iam::867344474111:role/service-role/AmazonEMRStudio_RuntimeRole_1743529043363",
    "tags": []
   },
   "outputs": [
    {
     "data": {
      "application/vnd.jupyter.widget-view+json": {
       "model_id": "64c11716a8f54c1992dd3886f9b3486d",
       "version_major": 2,
       "version_minor": 0
      },
      "text/plain": [
       "VBox()"
      ]
     },
     "metadata": {},
     "output_type": "display_data"
    },
    {
     "data": {
      "application/vnd.jupyter.widget-view+json": {
       "model_id": "",
       "version_major": 2,
       "version_minor": 0
      },
      "text/plain": [
       "FloatProgress(value=0.0, bar_style='info', description='Progress:', layout=Layout(height='25px', width='50%'),…"
      ]
     },
     "metadata": {},
     "output_type": "display_data"
    },
    {
     "name": "stdout",
     "output_type": "stream",
     "text": [
      "+---------------+-------------+\n",
      "|        Country|TotalQuantity|\n",
      "+---------------+-------------+\n",
      "| United Kingdom|      4666030|\n",
      "|    Netherlands|       199629|\n",
      "|           EIRE|       146378|\n",
      "|        Germany|       118739|\n",
      "|         France|       112019|\n",
      "|      Australia|        82277|\n",
      "|         Sweden|        35795|\n",
      "|    Switzerland|        30685|\n",
      "|          Spain|        27859|\n",
      "|          Japan|        25692|\n",
      "|        Belgium|        23182|\n",
      "|         Norway|        19260|\n",
      "|       Portugal|        16331|\n",
      "|        Finland|        11224|\n",
      "|Channel Islands|         9421|\n",
      "|        Denmark|         8288|\n",
      "|          Italy|         7568|\n",
      "|         Cyprus|         6305|\n",
      "|      Singapore|         5249|\n",
      "|      Hong Kong|         5015|\n",
      "+---------------+-------------+\n",
      "only showing top 20 rows"
     ]
    }
   ],
   "source": [
    "# Sum quantity per country\n",
    "df.groupBy(\"Country\").agg(F.sum(\"Quantity\").alias(\"TotalQuantity\")) \\\n",
    "  .orderBy(\"TotalQuantity\", ascending=False) \\\n",
    "  .show()\n"
   ]
  },
  {
   "cell_type": "markdown",
   "id": "c876765f-a146-459b-85d6-907c420056ac",
   "metadata": {},
   "source": [
    "Total Revenue per Country"
   ]
  },
  {
   "cell_type": "code",
   "execution_count": 9,
   "id": "1d890c54-78f1-4b5d-9be5-62e54fb91bea",
   "metadata": {
    "execution": {
     "iopub.execute_input": "2025-04-12T22:03:06.868554Z",
     "iopub.status.busy": "2025-04-12T22:03:06.868166Z",
     "iopub.status.idle": "2025-04-12T22:03:09.447640Z",
     "shell.execute_reply": "2025-04-12T22:03:09.447040Z",
     "shell.execute_reply.started": "2025-04-12T22:03:06.868528Z"
    },
    "executionRoleArn": "arn:aws:iam::867344474111:role/service-role/AmazonEMRStudio_RuntimeRole_1743529043363",
    "tags": []
   },
   "outputs": [
    {
     "data": {
      "application/vnd.jupyter.widget-view+json": {
       "model_id": "2ab2ca9276a844039d4c3959a25e9c3a",
       "version_major": 2,
       "version_minor": 0
      },
      "text/plain": [
       "VBox()"
      ]
     },
     "metadata": {},
     "output_type": "display_data"
    },
    {
     "data": {
      "application/vnd.jupyter.widget-view+json": {
       "model_id": "",
       "version_major": 2,
       "version_minor": 0
      },
      "text/plain": [
       "FloatProgress(value=0.0, bar_style='info', description='Progress:', layout=Layout(height='25px', width='50%'),…"
      ]
     },
     "metadata": {},
     "output_type": "display_data"
    },
    {
     "name": "stdout",
     "output_type": "stream",
     "text": [
      "+---------------+------------------+\n",
      "|        Country|      TotalRevenue|\n",
      "+---------------+------------------+\n",
      "| United Kingdom| 8907239.845000258|\n",
      "|           EIRE| 285647.4899999999|\n",
      "|    Netherlands| 284225.4600000001|\n",
      "|        Germany|230163.92000000004|\n",
      "|         France|209690.90000000005|\n",
      "|      Australia|         136824.03|\n",
      "|          Spain| 61620.22000000001|\n",
      "|    Switzerland|          57139.58|\n",
      "|        Belgium|          41038.21|\n",
      "|      Singapore|          39394.96|\n",
      "|         Sweden| 38156.56999999999|\n",
      "|         Norway| 37608.66000000001|\n",
      "|          Japan|          36691.81|\n",
      "|       Portugal|33842.149999999994|\n",
      "|        Finland|22695.479999999996|\n",
      "|Channel Islands|20310.440000000002|\n",
      "|        Denmark|19038.630000000005|\n",
      "|          Italy|17098.760000000002|\n",
      "|      Hong Kong|16112.699999999999|\n",
      "|         Cyprus|           13797.2|\n",
      "+---------------+------------------+\n",
      "only showing top 20 rows"
     ]
    }
   ],
   "source": [
    "from pyspark.sql import functions as F\n",
    "\n",
    "# First, create a new column for Revenue = Quantity * UnitPrice\n",
    "df = df.withColumn(\"Revenue\", F.col(\"Quantity\") * F.col(\"UnitPrice\"))\n",
    "\n",
    "# Sum revenue per country\n",
    "df.groupBy(\"Country\").agg(F.sum(\"Revenue\").alias(\"TotalRevenue\")) \\\n",
    "  .orderBy(\"TotalRevenue\", ascending=False) \\\n",
    "  .show()\n"
   ]
  },
  {
   "cell_type": "markdown",
   "id": "a992a27d-ce2e-4961-a2ae-141e905ad128",
   "metadata": {},
   "source": [
    "Most Frequently Purchased Items"
   ]
  },
  {
   "cell_type": "code",
   "execution_count": 10,
   "id": "86a13036-ec48-4001-86bf-e16e86fed02d",
   "metadata": {
    "execution": {
     "iopub.execute_input": "2025-04-12T22:04:03.318399Z",
     "iopub.status.busy": "2025-04-12T22:04:03.318033Z",
     "iopub.status.idle": "2025-04-12T22:04:05.923743Z",
     "shell.execute_reply": "2025-04-12T22:04:05.923155Z",
     "shell.execute_reply.started": "2025-04-12T22:04:03.318374Z"
    },
    "executionRoleArn": "arn:aws:iam::867344474111:role/service-role/AmazonEMRStudio_RuntimeRole_1743529043363",
    "tags": []
   },
   "outputs": [
    {
     "data": {
      "application/vnd.jupyter.widget-view+json": {
       "model_id": "4f14e1e2f9cb4e4dacf38032b9346d35",
       "version_major": 2,
       "version_minor": 0
      },
      "text/plain": [
       "VBox()"
      ]
     },
     "metadata": {},
     "output_type": "display_data"
    },
    {
     "data": {
      "application/vnd.jupyter.widget-view+json": {
       "model_id": "",
       "version_major": 2,
       "version_minor": 0
      },
      "text/plain": [
       "FloatProgress(value=0.0, bar_style='info', description='Progress:', layout=Layout(height='25px', width='50%'),…"
      ]
     },
     "metadata": {},
     "output_type": "display_data"
    },
    {
     "name": "stdout",
     "output_type": "stream",
     "text": [
      "+--------------------+---------+\n",
      "|         Description|Frequency|\n",
      "+--------------------+---------+\n",
      "|WHITE HANGING HEA...|     2446|\n",
      "|JUMBO BAG RED RET...|     2157|\n",
      "|REGENCY CAKESTAND...|     2062|\n",
      "|       PARTY BUNTING|     1736|\n",
      "|LUNCH BAG RED RET...|     1628|\n",
      "|ASSORTED COLOUR B...|     1537|\n",
      "|PACK OF 72 RETROS...|     1436|\n",
      "|SET OF 3 CAKE TIN...|     1413|\n",
      "|LUNCH BAG  BLACK ...|     1389|\n",
      "|NATURAL SLATE HEA...|     1275|\n",
      "+--------------------+---------+\n",
      "only showing top 10 rows"
     ]
    }
   ],
   "source": [
    "# Count frequency of each item description\n",
    "df.groupBy(\"Description\").agg(F.count(\"*\").alias(\"Frequency\")) \\\n",
    "  .orderBy(\"Frequency\", ascending=False) \\\n",
    "  .show(10)\n"
   ]
  },
  {
   "cell_type": "markdown",
   "id": "3d5f5519-7ef3-448e-9b3f-15e6690e4796",
   "metadata": {},
   "source": [
    "Top Customers by Revenue"
   ]
  },
  {
   "cell_type": "code",
   "execution_count": 11,
   "id": "4436759b-0409-4961-8b11-1419720a4015",
   "metadata": {
    "execution": {
     "iopub.execute_input": "2025-04-12T22:04:44.644393Z",
     "iopub.status.busy": "2025-04-12T22:04:44.643959Z",
     "iopub.status.idle": "2025-04-12T22:04:47.223789Z",
     "shell.execute_reply": "2025-04-12T22:04:47.223104Z",
     "shell.execute_reply.started": "2025-04-12T22:04:44.644360Z"
    },
    "executionRoleArn": "arn:aws:iam::867344474111:role/service-role/AmazonEMRStudio_RuntimeRole_1743529043363",
    "tags": []
   },
   "outputs": [
    {
     "data": {
      "application/vnd.jupyter.widget-view+json": {
       "model_id": "074f458e90114318832d96556e3d6dfd",
       "version_major": 2,
       "version_minor": 0
      },
      "text/plain": [
       "VBox()"
      ]
     },
     "metadata": {},
     "output_type": "display_data"
    },
    {
     "data": {
      "application/vnd.jupyter.widget-view+json": {
       "model_id": "",
       "version_major": 2,
       "version_minor": 0
      },
      "text/plain": [
       "FloatProgress(value=0.0, bar_style='info', description='Progress:', layout=Layout(height='25px', width='50%'),…"
      ]
     },
     "metadata": {},
     "output_type": "display_data"
    },
    {
     "name": "stdout",
     "output_type": "stream",
     "text": [
      "+----------+------------------+\n",
      "|CustomerID|      TotalRevenue|\n",
      "+----------+------------------+\n",
      "|     16547|1772220.8299999991|\n",
      "|     14646|278990.17999999993|\n",
      "|     18102|          259657.3|\n",
      "|     17450|194550.78999999998|\n",
      "|     14911|143311.08999999997|\n",
      "|     12415|         123182.69|\n",
      "|     14156|         116999.43|\n",
      "|     17511|           90958.7|\n",
      "|     16029| 81482.76000000001|\n",
      "|     12346|           77183.6|\n",
      "+----------+------------------+\n",
      "only showing top 10 rows"
     ]
    }
   ],
   "source": [
    "# Sum revenue per customer\n",
    "df.groupBy(\"CustomerID\").agg(F.sum(\"Revenue\").alias(\"TotalRevenue\")) \\\n",
    "  .orderBy(\"TotalRevenue\", ascending=False) \\\n",
    "  .show(10)\n"
   ]
  },
  {
   "cell_type": "markdown",
   "id": "235349cc-7bc3-4a03-8d78-e4a92fafe42e",
   "metadata": {},
   "source": [
    "Number of Invoices per Customer"
   ]
  },
  {
   "cell_type": "code",
   "execution_count": 12,
   "id": "e885cfcc-0ecc-4781-895f-7f69df383cf9",
   "metadata": {
    "execution": {
     "iopub.execute_input": "2025-04-12T22:05:21.606939Z",
     "iopub.status.busy": "2025-04-12T22:05:21.606574Z",
     "iopub.status.idle": "2025-04-12T22:05:24.316357Z",
     "shell.execute_reply": "2025-04-12T22:05:24.315754Z",
     "shell.execute_reply.started": "2025-04-12T22:05:21.606915Z"
    },
    "executionRoleArn": "arn:aws:iam::867344474111:role/service-role/AmazonEMRStudio_RuntimeRole_1743529043363",
    "tags": []
   },
   "outputs": [
    {
     "data": {
      "application/vnd.jupyter.widget-view+json": {
       "model_id": "fe5e84eb9bdc4d1d96b27801136e9f5e",
       "version_major": 2,
       "version_minor": 0
      },
      "text/plain": [
       "VBox()"
      ]
     },
     "metadata": {},
     "output_type": "display_data"
    },
    {
     "data": {
      "application/vnd.jupyter.widget-view+json": {
       "model_id": "",
       "version_major": 2,
       "version_minor": 0
      },
      "text/plain": [
       "FloatProgress(value=0.0, bar_style='info', description='Progress:', layout=Layout(height='25px', width='50%'),…"
      ]
     },
     "metadata": {},
     "output_type": "display_data"
    },
    {
     "name": "stdout",
     "output_type": "stream",
     "text": [
      "+----------+-----------+\n",
      "|CustomerID|NumInvoices|\n",
      "+----------+-----------+\n",
      "|     16547|       2189|\n",
      "|     12748|        210|\n",
      "|     14911|        201|\n",
      "|     17841|        124|\n",
      "|     13089|         97|\n",
      "|     14606|         93|\n",
      "|     15311|         91|\n",
      "|     12971|         86|\n",
      "|     14646|         74|\n",
      "|     16029|         63|\n",
      "|     13408|         62|\n",
      "|     18102|         60|\n",
      "|     13798|         57|\n",
      "|     14527|         55|\n",
      "|     14156|         55|\n",
      "|     16422|         51|\n",
      "|     13694|         50|\n",
      "|     15061|         48|\n",
      "|     16013|         47|\n",
      "|     15039|         47|\n",
      "+----------+-----------+\n",
      "only showing top 20 rows"
     ]
    }
   ],
   "source": [
    "# Count distinct InvoiceNo per customer\n",
    "df.groupBy(\"CustomerID\").agg(F.countDistinct(\"InvoiceNo\").alias(\"NumInvoices\")) \\\n",
    "  .orderBy(\"NumInvoices\", ascending=False) \\\n",
    "  .show()\n"
   ]
  },
  {
   "cell_type": "markdown",
   "id": "d2baddc3-3b17-47b5-b695-f239efe79dac",
   "metadata": {},
   "source": [
    "Monthly Revenue Trend"
   ]
  },
  {
   "cell_type": "code",
   "execution_count": 13,
   "id": "9df9dea5-a912-44b5-81a9-34f4ad7f19cd",
   "metadata": {
    "execution": {
     "iopub.execute_input": "2025-04-12T22:05:59.302428Z",
     "iopub.status.busy": "2025-04-12T22:05:59.301857Z",
     "iopub.status.idle": "2025-04-12T22:06:01.950205Z",
     "shell.execute_reply": "2025-04-12T22:06:01.949648Z",
     "shell.execute_reply.started": "2025-04-12T22:05:59.302402Z"
    },
    "executionRoleArn": "arn:aws:iam::867344474111:role/service-role/AmazonEMRStudio_RuntimeRole_1743529043363",
    "tags": []
   },
   "outputs": [
    {
     "data": {
      "application/vnd.jupyter.widget-view+json": {
       "model_id": "d6cd9444aa864336a8758370af2b0da7",
       "version_major": 2,
       "version_minor": 0
      },
      "text/plain": [
       "VBox()"
      ]
     },
     "metadata": {},
     "output_type": "display_data"
    },
    {
     "data": {
      "application/vnd.jupyter.widget-view+json": {
       "model_id": "",
       "version_major": 2,
       "version_minor": 0
      },
      "text/plain": [
       "FloatProgress(value=0.0, bar_style='info', description='Progress:', layout=Layout(height='25px', width='50%'),…"
      ]
     },
     "metadata": {},
     "output_type": "display_data"
    },
    {
     "name": "stdout",
     "output_type": "stream",
     "text": [
      "+-------+------------------+\n",
      "|  Month|    MonthlyRevenue|\n",
      "+-------+------------------+\n",
      "|2010-12| 833106.9300000004|\n",
      "|2011-01| 691740.1900000015|\n",
      "|2011-02|522940.69000000105|\n",
      "|2011-03| 718575.5500000023|\n",
      "|2011-04| 548662.0710000007|\n",
      "|2011-05|  769400.950000001|\n",
      "|2011-06| 768614.5900000014|\n",
      "|2011-07| 718606.0710000012|\n",
      "|2011-08| 760998.8500000011|\n",
      "|2011-09| 1061252.453000001|\n",
      "|2011-10|1170914.9299999995|\n",
      "|2011-11|1528708.6899999976|\n",
      "|2011-12| 474554.1100000001|\n",
      "+-------+------------------+"
     ]
    }
   ],
   "source": [
    "# Convert InvoiceTimestamp to a Month column\n",
    "df = df.withColumn(\"Month\", F.date_format(\"InvoiceTimestamp\", \"yyyy-MM\"))\n",
    "\n",
    "# Group by Month and calculate total revenue\n",
    "df.groupBy(\"Month\").agg(F.sum(\"Revenue\").alias(\"MonthlyRevenue\")) \\\n",
    "  .orderBy(\"Month\") \\\n",
    "  .show()\n"
   ]
  },
  {
   "cell_type": "markdown",
   "id": "94c9420c-1f57-44e5-906b-21b60763a986",
   "metadata": {},
   "source": [
    "Advanced Analysis"
   ]
  },
  {
   "cell_type": "markdown",
   "id": "9b812aa8-5a9d-4ec1-9968-2bdfabc98977",
   "metadata": {},
   "source": [
    "Top 10 Revenue-Generating Products Per Country"
   ]
  },
  {
   "cell_type": "code",
   "execution_count": 14,
   "id": "fda7b051-4c9f-4594-a919-62832cd8ec4c",
   "metadata": {
    "execution": {
     "iopub.execute_input": "2025-04-12T22:21:46.962156Z",
     "iopub.status.busy": "2025-04-12T22:21:46.961833Z",
     "iopub.status.idle": "2025-04-12T22:21:49.569390Z",
     "shell.execute_reply": "2025-04-12T22:21:49.568729Z",
     "shell.execute_reply.started": "2025-04-12T22:21:46.962133Z"
    },
    "executionRoleArn": "arn:aws:iam::867344474111:role/service-role/AmazonEMRStudio_RuntimeRole_1743529043363",
    "tags": []
   },
   "outputs": [
    {
     "data": {
      "application/vnd.jupyter.widget-view+json": {
       "model_id": "6ac0e7ced2cb4eb6a2b07fe8e4229ef7",
       "version_major": 2,
       "version_minor": 0
      },
      "text/plain": [
       "VBox()"
      ]
     },
     "metadata": {},
     "output_type": "display_data"
    },
    {
     "data": {
      "application/vnd.jupyter.widget-view+json": {
       "model_id": "",
       "version_major": 2,
       "version_minor": 0
      },
      "text/plain": [
       "FloatProgress(value=0.0, bar_style='info', description='Progress:', layout=Layout(height='25px', width='50%'),…"
      ]
     },
     "metadata": {},
     "output_type": "display_data"
    },
    {
     "name": "stdout",
     "output_type": "stream",
     "text": [
      "+---------+---------------------------------+------------------+\n",
      "|Country  |Description                      |TotalRevenue      |\n",
      "+---------+---------------------------------+------------------+\n",
      "|Australia|RABBIT NIGHT LIGHT               |3375.84           |\n",
      "|Australia|SET OF 6 SPICE TINS PANTRY DESIGN|2082.0            |\n",
      "|Australia|RED TOADSTOOL LED NIGHT LIGHT    |1987.1999999999998|\n",
      "|Australia|SET OF 3 CAKE TINS PANTRY DESIGN |1983.2            |\n",
      "|Australia|REGENCY CAKESTAND 3 TIER         |1978.1999999999998|\n",
      "|Australia|RED  HARMONICA IN BOX            |1810.8            |\n",
      "|Australia|DOLLY GIRL LUNCH BOX             |1689.6            |\n",
      "|Australia|MINI PAINT SET VINTAGE           |1630.8000000000002|\n",
      "|Australia|SPACEBOY LUNCH BOX               |1583.9999999999998|\n",
      "|Australia|RED RETROSPOT ROUND CAKE TINS    |1503.6            |\n",
      "+---------+---------------------------------+------------------+\n",
      "only showing top 10 rows"
     ]
    }
   ],
   "source": [
    "# Total revenue for each product in each country\n",
    "df.groupBy(\"Country\", \"Description\") \\\n",
    "  .agg(F.sum(\"Revenue\").alias(\"TotalRevenue\")) \\\n",
    "  .orderBy(\"Country\", F.desc(\"TotalRevenue\")) \\\n",
    "  .show(10, truncate=False)\n"
   ]
  },
  {
   "cell_type": "markdown",
   "id": "73c6f73c-0b32-45a0-be2e-05a8482d6fb8",
   "metadata": {},
   "source": [
    "Average Quantity Purchased Per Product Per Customer"
   ]
  },
  {
   "cell_type": "code",
   "execution_count": 15,
   "id": "c7d1709c-3e11-4ade-83ab-294adc445ca1",
   "metadata": {
    "execution": {
     "iopub.execute_input": "2025-04-12T22:22:28.728271Z",
     "iopub.status.busy": "2025-04-12T22:22:28.727499Z",
     "iopub.status.idle": "2025-04-12T22:22:31.325158Z",
     "shell.execute_reply": "2025-04-12T22:22:31.324523Z",
     "shell.execute_reply.started": "2025-04-12T22:22:28.728240Z"
    },
    "executionRoleArn": "arn:aws:iam::867344474111:role/service-role/AmazonEMRStudio_RuntimeRole_1743529043363",
    "tags": []
   },
   "outputs": [
    {
     "data": {
      "application/vnd.jupyter.widget-view+json": {
       "model_id": "e07eeb8a13dd482bac9a3755390e8b61",
       "version_major": 2,
       "version_minor": 0
      },
      "text/plain": [
       "VBox()"
      ]
     },
     "metadata": {},
     "output_type": "display_data"
    },
    {
     "data": {
      "application/vnd.jupyter.widget-view+json": {
       "model_id": "",
       "version_major": 2,
       "version_minor": 0
      },
      "text/plain": [
       "FloatProgress(value=0.0, bar_style='info', description='Progress:', layout=Layout(height='25px', width='50%'),…"
      ]
     },
     "metadata": {},
     "output_type": "display_data"
    },
    {
     "name": "stdout",
     "output_type": "stream",
     "text": [
      "+----------+-----------------------------------+-----------+\n",
      "|CustomerID|Description                        |AvgQuantity|\n",
      "+----------+-----------------------------------+-----------+\n",
      "|12346     |MEDIUM CERAMIC TOP STORAGE JAR     |74215.0    |\n",
      "|12347     |ICE CREAM SUNDAE LIP GLOSS         |240.0      |\n",
      "|12347     |NAMASTE SWAGAT INCENSE             |36.0       |\n",
      "|12347     |MINI PAINT SET VINTAGE             |36.0       |\n",
      "|12347     |BLACK GRAND BAROQUE PHOTO FRAME    |30.0       |\n",
      "|12347     |RABBIT NIGHT LIGHT                 |28.0       |\n",
      "|12347     |3D DOG PICTURE PLAYING CARDS       |25.2       |\n",
      "|12347     |BLUE NEW BAROQUE CANDLESTICK CANDLE|24.0       |\n",
      "|12347     |PACK OF 60 SPACEBOY CAKE CASES     |24.0       |\n",
      "|12347     |PINK NEW BAROQUECANDLESTICK CANDLE |24.0       |\n",
      "+----------+-----------------------------------+-----------+\n",
      "only showing top 10 rows"
     ]
    }
   ],
   "source": [
    "df.groupBy(\"CustomerID\", \"Description\") \\\n",
    "  .agg(F.avg(\"Quantity\").alias(\"AvgQuantity\")) \\\n",
    "  .orderBy(\"CustomerID\", F.desc(\"AvgQuantity\")) \\\n",
    "  .show(10, truncate=False)\n"
   ]
  },
  {
   "cell_type": "markdown",
   "id": "d06b27e1-556a-4043-929f-23c863232d38",
   "metadata": {},
   "source": [
    "Monthly Revenue per Country"
   ]
  },
  {
   "cell_type": "code",
   "execution_count": 16,
   "id": "0fd31c5e-949b-4065-84bc-a2b86732ddb4",
   "metadata": {
    "execution": {
     "iopub.execute_input": "2025-04-12T22:23:11.720121Z",
     "iopub.status.busy": "2025-04-12T22:23:11.719748Z",
     "iopub.status.idle": "2025-04-12T22:23:14.344666Z",
     "shell.execute_reply": "2025-04-12T22:23:14.343978Z",
     "shell.execute_reply.started": "2025-04-12T22:23:11.720096Z"
    },
    "executionRoleArn": "arn:aws:iam::867344474111:role/service-role/AmazonEMRStudio_RuntimeRole_1743529043363",
    "tags": []
   },
   "outputs": [
    {
     "data": {
      "application/vnd.jupyter.widget-view+json": {
       "model_id": "f716a7e491ac406ab70d1f39babd7f22",
       "version_major": 2,
       "version_minor": 0
      },
      "text/plain": [
       "VBox()"
      ]
     },
     "metadata": {},
     "output_type": "display_data"
    },
    {
     "data": {
      "application/vnd.jupyter.widget-view+json": {
       "model_id": "",
       "version_major": 2,
       "version_minor": 0
      },
      "text/plain": [
       "FloatProgress(value=0.0, bar_style='info', description='Progress:', layout=Layout(height='25px', width='50%'),…"
      ]
     },
     "metadata": {},
     "output_type": "display_data"
    },
    {
     "name": "stdout",
     "output_type": "stream",
     "text": [
      "+-------+---------------+------------------+\n",
      "|Month  |Country        |MonthlyRevenue    |\n",
      "+-------+---------------+------------------+\n",
      "|2010-12|Australia      |1032.85           |\n",
      "|2010-12|Austria        |277.20000000000005|\n",
      "|2010-12|Bahrain        |205.74            |\n",
      "|2010-12|Belgium        |1809.9099999999999|\n",
      "|2010-12|Channel Islands|363.53            |\n",
      "|2010-12|Cyprus         |1520.0200000000004|\n",
      "|2010-12|Denmark        |1281.5            |\n",
      "|2010-12|EIRE           |9958.860000000002 |\n",
      "|2010-12|Finland        |1147.1999999999998|\n",
      "|2010-12|France         |9591.489999999998 |\n",
      "|2010-12|Germany        |15202.74          |\n",
      "|2010-12|Iceland        |711.79            |\n",
      "|2010-12|Italy          |811.4999999999999 |\n",
      "|2010-12|Japan          |7633.31           |\n",
      "|2010-12|Lithuania      |1661.0600000000002|\n",
      "|2010-12|Netherlands    |8664.48           |\n",
      "|2010-12|Norway         |3777.0399999999995|\n",
      "|2010-12|Poland         |248.16            |\n",
      "|2010-12|Portugal       |2439.9699999999993|\n",
      "|2010-12|Spain          |1828.6100000000001|\n",
      "+-------+---------------+------------------+\n",
      "only showing top 20 rows"
     ]
    }
   ],
   "source": [
    "# Extract Month first\n",
    "df = df.withColumn(\"Month\", F.date_format(\"InvoiceTimestamp\", \"yyyy-MM\"))\n",
    "\n",
    "df.groupBy(\"Month\", \"Country\") \\\n",
    "  .agg(F.sum(\"Revenue\").alias(\"MonthlyRevenue\")) \\\n",
    "  .orderBy(\"Month\", \"Country\") \\\n",
    "  .show(20, truncate=False)\n"
   ]
  },
  {
   "cell_type": "markdown",
   "id": "1556feca-178f-4f01-8efa-4b5056698e84",
   "metadata": {},
   "source": [
    "Top Customers per Country by Total Revenue"
   ]
  },
  {
   "cell_type": "code",
   "execution_count": 17,
   "id": "fe2aaa0a-2dad-4d8e-83bb-2421714e4338",
   "metadata": {
    "execution": {
     "iopub.execute_input": "2025-04-12T22:24:03.847027Z",
     "iopub.status.busy": "2025-04-12T22:24:03.846630Z",
     "iopub.status.idle": "2025-04-12T22:24:06.455369Z",
     "shell.execute_reply": "2025-04-12T22:24:06.454695Z",
     "shell.execute_reply.started": "2025-04-12T22:24:03.847000Z"
    },
    "executionRoleArn": "arn:aws:iam::867344474111:role/service-role/AmazonEMRStudio_RuntimeRole_1743529043363",
    "tags": []
   },
   "outputs": [
    {
     "data": {
      "application/vnd.jupyter.widget-view+json": {
       "model_id": "e386e3cda33a417090c5e51b128bef53",
       "version_major": 2,
       "version_minor": 0
      },
      "text/plain": [
       "VBox()"
      ]
     },
     "metadata": {},
     "output_type": "display_data"
    },
    {
     "data": {
      "application/vnd.jupyter.widget-view+json": {
       "model_id": "",
       "version_major": 2,
       "version_minor": 0
      },
      "text/plain": [
       "FloatProgress(value=0.0, bar_style='info', description='Progress:', layout=Layout(height='25px', width='50%'),…"
      ]
     },
     "metadata": {},
     "output_type": "display_data"
    },
    {
     "name": "stdout",
     "output_type": "stream",
     "text": [
      "+---------+----------+------------------+\n",
      "|Country  |CustomerID|CustomerRevenue   |\n",
      "+---------+----------+------------------+\n",
      "|Australia|12415     |123182.69         |\n",
      "|Australia|12431     |5509.63           |\n",
      "|Australia|12388     |2780.66           |\n",
      "|Australia|12424     |1760.9600000000003|\n",
      "|Australia|12393     |1622.2000000000003|\n",
      "|Australia|12434     |806.1400000000001 |\n",
      "|Australia|12386     |401.9             |\n",
      "|Australia|12422     |386.20000000000005|\n",
      "|Australia|16321     |373.65000000000003|\n",
      "|Austria  |12360     |2657.0199999999995|\n",
      "|Austria  |12865     |1568.2300000000002|\n",
      "|Austria  |12818     |1542.0800000000004|\n",
      "|Austria  |12358     |1168.06           |\n",
      "|Austria  |12374     |742.93            |\n",
      "|Austria  |12453     |707.09            |\n",
      "|Austria  |12414     |562.41            |\n",
      "|Austria  |12429     |437.98            |\n",
      "|Austria  |12373     |364.6             |\n",
      "|Austria  |12370     |277.2             |\n",
      "|Austria  |12817     |166.04            |\n",
      "+---------+----------+------------------+\n",
      "only showing top 20 rows"
     ]
    }
   ],
   "source": [
    "df.groupBy(\"Country\", \"CustomerID\") \\\n",
    "  .agg(F.sum(\"Revenue\").alias(\"CustomerRevenue\")) \\\n",
    "  .orderBy(\"Country\", F.desc(\"CustomerRevenue\")) \\\n",
    "  .show(20, truncate=False)\n"
   ]
  },
  {
   "cell_type": "markdown",
   "id": "d5bcc404-7c68-40b0-a972-005e045d3a86",
   "metadata": {},
   "source": [
    "Most Popular Products (by quantity) per Month"
   ]
  },
  {
   "cell_type": "code",
   "execution_count": 18,
   "id": "3468f6a2-c7ad-4b61-b5d6-3c712cc91c49",
   "metadata": {
    "execution": {
     "iopub.execute_input": "2025-04-12T22:24:37.699419Z",
     "iopub.status.busy": "2025-04-12T22:24:37.699048Z",
     "iopub.status.idle": "2025-04-12T22:24:40.306056Z",
     "shell.execute_reply": "2025-04-12T22:24:40.305471Z",
     "shell.execute_reply.started": "2025-04-12T22:24:37.699395Z"
    },
    "executionRoleArn": "arn:aws:iam::867344474111:role/service-role/AmazonEMRStudio_RuntimeRole_1743529043363",
    "tags": []
   },
   "outputs": [
    {
     "data": {
      "application/vnd.jupyter.widget-view+json": {
       "model_id": "327bcbf8893a4dfb909d606754f47056",
       "version_major": 2,
       "version_minor": 0
      },
      "text/plain": [
       "VBox()"
      ]
     },
     "metadata": {},
     "output_type": "display_data"
    },
    {
     "data": {
      "application/vnd.jupyter.widget-view+json": {
       "model_id": "",
       "version_major": 2,
       "version_minor": 0
      },
      "text/plain": [
       "FloatProgress(value=0.0, bar_style='info', description='Progress:', layout=Layout(height='25px', width='50%'),…"
      ]
     },
     "metadata": {},
     "output_type": "display_data"
    },
    {
     "name": "stdout",
     "output_type": "stream",
     "text": [
      "+-------+-----------------------------------+-------------+\n",
      "|Month  |Description                        |TotalQuantity|\n",
      "+-------+-----------------------------------+-------------+\n",
      "|2010-12|WORLD WAR 2 GLIDERS ASSTD DESIGNS  |5195         |\n",
      "|2010-12|PACK OF 72 RETROSPOT CAKE CASES    |4115         |\n",
      "|2010-12|WHITE HANGING HEART T-LIGHT HOLDER |3897         |\n",
      "|2010-12|HAND WARMER BABUSHKA DESIGN        |3515         |\n",
      "|2010-12|SMALL POPCORN HOLDER               |2760         |\n",
      "|2010-12|MINI PAINT SET VINTAGE             |2710         |\n",
      "|2010-12|PACK OF 12 LONDON TISSUES          |2698         |\n",
      "|2010-12|GROW A FLYTRAP OR SUNFLOWER IN TIN |2617         |\n",
      "|2010-12|PAPER CHAIN KIT 50'S CHRISTMAS     |2551         |\n",
      "|2010-12|ASSORTED COLOUR BIRD ORNAMENT      |2403         |\n",
      "|2010-12|ROTATING SILVER ANGELS T-LIGHT HLDR|2354         |\n",
      "|2010-12|CREAM HEART CARD HOLDER            |2283         |\n",
      "|2010-12|RED  HARMONICA IN BOX              |2230         |\n",
      "|2010-12|ANTIQUE SILVER TEA GLASS ETCHED    |2194         |\n",
      "|2010-12|BLACK HEART CARD HOLDER            |2158         |\n",
      "|2010-12|JUMBO BAG RED RETROSPOT            |2157         |\n",
      "|2010-12|REGENCY CAKESTAND 3 TIER           |2155         |\n",
      "|2010-12|CHARLOTTE BAG SUKI DESIGN          |1981         |\n",
      "|2010-12|ASSORTED COLOUR T-LIGHT HOLDER     |1968         |\n",
      "|2010-12|DISCO BALL CHRISTMAS DECORATION    |1955         |\n",
      "+-------+-----------------------------------+-------------+\n",
      "only showing top 20 rows"
     ]
    }
   ],
   "source": [
    "df.groupBy(\"Month\", \"Description\") \\\n",
    "  .agg(F.sum(\"Quantity\").alias(\"TotalQuantity\")) \\\n",
    "  .orderBy(\"Month\", F.desc(\"TotalQuantity\")) \\\n",
    "  .show(20, truncate=False)\n"
   ]
  },
  {
   "cell_type": "markdown",
   "id": "8b6920c2-a109-45bd-9028-c7b68a6c896b",
   "metadata": {},
   "source": [
    "Average Spending per Invoice by Country and Month"
   ]
  },
  {
   "cell_type": "code",
   "execution_count": 19,
   "id": "e7b88ad3-94c0-4689-9a99-83768522ddf1",
   "metadata": {
    "execution": {
     "iopub.execute_input": "2025-04-12T22:25:30.262688Z",
     "iopub.status.busy": "2025-04-12T22:25:30.262310Z",
     "iopub.status.idle": "2025-04-12T22:25:33.063655Z",
     "shell.execute_reply": "2025-04-12T22:25:33.062979Z",
     "shell.execute_reply.started": "2025-04-12T22:25:30.262663Z"
    },
    "executionRoleArn": "arn:aws:iam::867344474111:role/service-role/AmazonEMRStudio_RuntimeRole_1743529043363",
    "tags": []
   },
   "outputs": [
    {
     "data": {
      "application/vnd.jupyter.widget-view+json": {
       "model_id": "74c0416dd755465bae785406cf241bc0",
       "version_major": 2,
       "version_minor": 0
      },
      "text/plain": [
       "VBox()"
      ]
     },
     "metadata": {},
     "output_type": "display_data"
    },
    {
     "data": {
      "application/vnd.jupyter.widget-view+json": {
       "model_id": "",
       "version_major": 2,
       "version_minor": 0
      },
      "text/plain": [
       "FloatProgress(value=0.0, bar_style='info', description='Progress:', layout=Layout(height='25px', width='50%'),…"
      ]
     },
     "metadata": {},
     "output_type": "display_data"
    },
    {
     "name": "stdout",
     "output_type": "stream",
     "text": [
      "+---------+-------+------------------+\n",
      "|Country  |Month  |AvgInvoiceSpending|\n",
      "+---------+-------+------------------+\n",
      "|Australia|2010-12|344.2833333333333 |\n",
      "|Australia|2011-01|1000.8344444444444|\n",
      "|Australia|2011-02|2877.8839999999996|\n",
      "|Australia|2011-03|5571.330000000001 |\n",
      "|Australia|2011-04|385.8             |\n",
      "|Australia|2011-05|3180.6425000000004|\n",
      "|Australia|2011-06|6296.942499999999 |\n",
      "|Australia|2011-07|708.477142857143  |\n",
      "|Australia|2011-08|11244.6           |\n",
      "|Australia|2011-09|644.5662500000001 |\n",
      "|Australia|2011-10|4287.6325         |\n",
      "|Australia|2011-11|1207.1200000000001|\n",
      "|Austria  |2010-12|277.20000000000005|\n",
      "|Austria  |2011-02|259.18            |\n",
      "|Austria  |2011-03|854.0600000000001 |\n",
      "|Austria  |2011-04|340.39            |\n",
      "|Austria  |2011-05|624.7149999999999 |\n",
      "|Austria  |2011-07|595.975           |\n",
      "|Austria  |2011-08|755.52            |\n",
      "|Austria  |2011-10|1043.78           |\n",
      "+---------+-------+------------------+\n",
      "only showing top 20 rows"
     ]
    }
   ],
   "source": [
    "df.groupBy(\"Country\", \"Month\", \"InvoiceNo\") \\\n",
    "  .agg(F.sum(\"Revenue\").alias(\"InvoiceRevenue\")) \\\n",
    "  .groupBy(\"Country\", \"Month\") \\\n",
    "  .agg(F.avg(\"InvoiceRevenue\").alias(\"AvgInvoiceSpending\")) \\\n",
    "  .orderBy(\"Country\", \"Month\") \\\n",
    "  .show(20, truncate=False)\n"
   ]
  },
  {
   "cell_type": "markdown",
   "id": "c12a9296-409c-4009-93b7-6ab39eb58e41",
   "metadata": {},
   "source": [
    "Customer Repeat Purchase Frequency per Product"
   ]
  },
  {
   "cell_type": "code",
   "execution_count": 20,
   "id": "2cc1afde-5271-4399-8752-e39a2e5e4a62",
   "metadata": {
    "execution": {
     "iopub.execute_input": "2025-04-12T22:26:10.475578Z",
     "iopub.status.busy": "2025-04-12T22:26:10.475216Z",
     "iopub.status.idle": "2025-04-12T22:26:13.190451Z",
     "shell.execute_reply": "2025-04-12T22:26:13.189892Z",
     "shell.execute_reply.started": "2025-04-12T22:26:10.475554Z"
    },
    "executionRoleArn": "arn:aws:iam::867344474111:role/service-role/AmazonEMRStudio_RuntimeRole_1743529043363",
    "tags": []
   },
   "outputs": [
    {
     "data": {
      "application/vnd.jupyter.widget-view+json": {
       "model_id": "740c37182bf44ae0be8b808af57e44b5",
       "version_major": 2,
       "version_minor": 0
      },
      "text/plain": [
       "VBox()"
      ]
     },
     "metadata": {},
     "output_type": "display_data"
    },
    {
     "data": {
      "application/vnd.jupyter.widget-view+json": {
       "model_id": "",
       "version_major": 2,
       "version_minor": 0
      },
      "text/plain": [
       "FloatProgress(value=0.0, bar_style='info', description='Progress:', layout=Layout(height='25px', width='50%'),…"
      ]
     },
     "metadata": {},
     "output_type": "display_data"
    },
    {
     "name": "stdout",
     "output_type": "stream",
     "text": [
      "+----------+----------------------------------+--------------+\n",
      "|CustomerID|Description                       |TimesPurchased|\n",
      "+----------+----------------------------------+--------------+\n",
      "|16547     |DOTCOM POSTAGE                    |692           |\n",
      "|16547     |Not Available                     |592           |\n",
      "|16547     |JUMBO BAG RED RETROSPOT           |492           |\n",
      "|16547     |JUMBO STORAGE BAG SUKI            |410           |\n",
      "|16547     |JUMBO SHOPPER VINTAGE RED PAISLEY |385           |\n",
      "|16547     |JUMBO BAG WOODLAND ANIMALS        |371           |\n",
      "|16547     |JUMBO BAG PINK POLKADOT           |347           |\n",
      "|16547     |RECYCLING BAG RETROSPOT           |341           |\n",
      "|16547     |RED TOADSTOOL LED NIGHT LIGHT     |327           |\n",
      "|16547     |SUKI  SHOULDER BAG                |326           |\n",
      "|16547     |GREEN REGENCY TEACUP AND SAUCER   |324           |\n",
      "|16547     |PARTY BUNTING                     |306           |\n",
      "|16547     |WOODLAND CHARLOTTE BAG            |304           |\n",
      "|16547     |CHARLOTTE BAG SUKI DESIGN         |297           |\n",
      "|16547     |RED RETROSPOT CHARLOTTE BAG       |295           |\n",
      "|16547     |JAM MAKING SET PRINTED            |294           |\n",
      "|16547     |PACK OF 72 RETROSPOT CAKE CASES   |291           |\n",
      "|16547     |RECIPE BOX PANTRY YELLOW DESIGN   |289           |\n",
      "|16547     |WHITE HANGING HEART T-LIGHT HOLDER|289           |\n",
      "|16547     |REGENCY CAKESTAND 3 TIER          |285           |\n",
      "+----------+----------------------------------+--------------+\n",
      "only showing top 20 rows"
     ]
    }
   ],
   "source": [
    "df.groupBy(\"CustomerID\", \"Description\") \\\n",
    "  .agg(F.countDistinct(\"InvoiceNo\").alias(\"TimesPurchased\")) \\\n",
    "  .orderBy(F.desc(\"TimesPurchased\")) \\\n",
    "  .show(20, truncate=False)\n"
   ]
  },
  {
   "cell_type": "markdown",
   "id": "c6eebc8a-3937-4c21-8d51-6453de1fba20",
   "metadata": {
    "execution": {
     "iopub.execute_input": "2025-04-04T21:26:13.085931Z",
     "iopub.status.busy": "2025-04-04T21:26:13.085577Z",
     "iopub.status.idle": "2025-04-04T21:26:14.512261Z",
     "shell.execute_reply": "2025-04-04T21:26:14.511703Z",
     "shell.execute_reply.started": "2025-04-04T21:26:13.085907Z"
    },
    "executionRoleArn": "arn:aws:iam::867344474111:role/service-role/AmazonEMRStudio_RuntimeRole_1743529043363",
    "tags": []
   },
   "source": [
    "Statistical Analysis"
   ]
  },
  {
   "cell_type": "markdown",
   "id": "577fe4de-a1b5-4cb6-b14b-408175db6cff",
   "metadata": {},
   "source": [
    "Average Revenue Per Invoice Per Country"
   ]
  },
  {
   "cell_type": "code",
   "execution_count": 21,
   "id": "2756d907-d0db-4efb-acc3-e831b38120ec",
   "metadata": {
    "execution": {
     "iopub.execute_input": "2025-04-12T22:30:16.155740Z",
     "iopub.status.busy": "2025-04-12T22:30:16.155363Z",
     "iopub.status.idle": "2025-04-12T22:30:18.874591Z",
     "shell.execute_reply": "2025-04-12T22:30:18.874035Z",
     "shell.execute_reply.started": "2025-04-12T22:30:16.155716Z"
    },
    "executionRoleArn": "arn:aws:iam::867344474111:role/service-role/AmazonEMRStudio_RuntimeRole_1743529043363",
    "tags": []
   },
   "outputs": [
    {
     "data": {
      "application/vnd.jupyter.widget-view+json": {
       "model_id": "13f5f32618614e56851a234b5dbc02d0",
       "version_major": 2,
       "version_minor": 0
      },
      "text/plain": [
       "VBox()"
      ]
     },
     "metadata": {},
     "output_type": "display_data"
    },
    {
     "data": {
      "application/vnd.jupyter.widget-view+json": {
       "model_id": "",
       "version_major": 2,
       "version_minor": 0
      },
      "text/plain": [
       "FloatProgress(value=0.0, bar_style='info', description='Progress:', layout=Layout(height='25px', width='50%'),…"
      ]
     },
     "metadata": {},
     "output_type": "display_data"
    },
    {
     "name": "stdout",
     "output_type": "stream",
     "text": [
      "+--------------------+------------------+\n",
      "|             Country| AvgInvoiceRevenue|\n",
      "+--------------------+------------------+\n",
      "|           Singapore| 5627.851428571428|\n",
      "|         Netherlands| 2991.846947368421|\n",
      "|           Australia|2400.4215789473687|\n",
      "|               Japan| 1931.147894736842|\n",
      "|             Lebanon|           1693.88|\n",
      "|           Hong Kong| 1464.790909090909|\n",
      "|              Brazil|1143.6000000000001|\n",
      "|              Sweden|1059.9047222222223|\n",
      "|         Switzerland|1058.1403703703704|\n",
      "|             Denmark|1057.7016666666668|\n",
      "|              Norway|1044.6850000000002|\n",
      "|              Israel|        1014.45125|\n",
      "|                 RSA|1002.3099999999998|\n",
      "|                EIRE|       991.8315625|\n",
      "|              Greece| 938.9640000000002|\n",
      "|              Cyprus| 862.3249999999999|\n",
      "|     Channel Islands| 781.1707692307693|\n",
      "|                 USA|           716.078|\n",
      "|               Spain|  684.669111111111|\n",
      "|United Arab Emirates| 625.6933333333333|\n",
      "+--------------------+------------------+\n",
      "only showing top 20 rows"
     ]
    }
   ],
   "source": [
    "df.groupBy(\"Country\", \"InvoiceNo\") \\\n",
    "  .agg(F.sum(\"Revenue\").alias(\"InvoiceRevenue\")) \\\n",
    "  .groupBy(\"Country\") \\\n",
    "  .agg(F.avg(\"InvoiceRevenue\").alias(\"AvgInvoiceRevenue\")) \\\n",
    "  .orderBy(\"AvgInvoiceRevenue\", ascending=False) \\\n",
    "  .show()\n"
   ]
  },
  {
   "cell_type": "markdown",
   "id": "b4368462-1daf-4360-ac9f-e73c14c2e6e5",
   "metadata": {},
   "source": [
    "Standard Deviation of Product Quantity Sold Per Country"
   ]
  },
  {
   "cell_type": "code",
   "execution_count": 22,
   "id": "4dce0d88-16c8-45ce-991a-0fe8f2c7df43",
   "metadata": {
    "execution": {
     "iopub.execute_input": "2025-04-12T22:30:54.606787Z",
     "iopub.status.busy": "2025-04-12T22:30:54.606408Z",
     "iopub.status.idle": "2025-04-12T22:30:56.006096Z",
     "shell.execute_reply": "2025-04-12T22:30:56.005519Z",
     "shell.execute_reply.started": "2025-04-12T22:30:54.606761Z"
    },
    "executionRoleArn": "arn:aws:iam::867344474111:role/service-role/AmazonEMRStudio_RuntimeRole_1743529043363",
    "tags": []
   },
   "outputs": [
    {
     "data": {
      "application/vnd.jupyter.widget-view+json": {
       "model_id": "253b76d0848e49e19e10b1df05ba0be6",
       "version_major": 2,
       "version_minor": 0
      },
      "text/plain": [
       "VBox()"
      ]
     },
     "metadata": {},
     "output_type": "display_data"
    },
    {
     "data": {
      "application/vnd.jupyter.widget-view+json": {
       "model_id": "",
       "version_major": 2,
       "version_minor": 0
      },
      "text/plain": [
       "FloatProgress(value=0.0, bar_style='info', description='Progress:', layout=Layout(height='25px', width='50%'),…"
      ]
     },
     "metadata": {},
     "output_type": "display_data"
    },
    {
     "name": "stdout",
     "output_type": "stream",
     "text": [
      "+---------------+------------------+\n",
      "|        Country|    QuantityStdDev|\n",
      "+---------------+------------------+\n",
      "|          Japan| 183.1718388970361|\n",
      "|         Sweden| 128.7414424940944|\n",
      "| United Kingdom|113.98801213789926|\n",
      "|    Netherlands| 110.9341440260458|\n",
      "|      Australia| 95.59736114829961|\n",
      "|         Canada|47.292773943219196|\n",
      "|           EIRE| 39.93297040222836|\n",
      "|        Denmark|27.756898725528043|\n",
      "|      Singapore| 27.56813180563665|\n",
      "|        Bahrain|  25.8757715934338|\n",
      "|         Cyprus|23.266366321494502|\n",
      "|          Spain|22.764633800357654|\n",
      "|Channel Islands|22.714635632560757|\n",
      "|         Norway|22.632136039686564|\n",
      "|        Finland| 22.42568730560871|\n",
      "|        Austria|21.617731990474365|\n",
      "|         France|21.071566895024585|\n",
      "|        Iceland| 18.90814278875833|\n",
      "|    Switzerland|18.508021755125537|\n",
      "|        Germany|17.649191786900314|\n",
      "+---------------+------------------+\n",
      "only showing top 20 rows"
     ]
    }
   ],
   "source": [
    "df.groupBy(\"Country\") \\\n",
    "  .agg(F.stddev(\"Quantity\").alias(\"QuantityStdDev\")) \\\n",
    "  .orderBy(F.desc(\"QuantityStdDev\")) \\\n",
    "  .show()\n"
   ]
  },
  {
   "cell_type": "markdown",
   "id": "cbb49e0c-a2fe-4d15-8ac5-96a9a6a7b35b",
   "metadata": {},
   "source": [
    "Max and Min Revenue Per Product"
   ]
  },
  {
   "cell_type": "code",
   "execution_count": 23,
   "id": "32628aa8-9630-46dd-97b0-4d67af19173e",
   "metadata": {
    "execution": {
     "iopub.execute_input": "2025-04-12T22:31:21.168420Z",
     "iopub.status.busy": "2025-04-12T22:31:21.168087Z",
     "iopub.status.idle": "2025-04-12T22:31:22.591606Z",
     "shell.execute_reply": "2025-04-12T22:31:22.591035Z",
     "shell.execute_reply.started": "2025-04-12T22:31:21.168394Z"
    },
    "executionRoleArn": "arn:aws:iam::867344474111:role/service-role/AmazonEMRStudio_RuntimeRole_1743529043363",
    "tags": []
   },
   "outputs": [
    {
     "data": {
      "application/vnd.jupyter.widget-view+json": {
       "model_id": "8acd02bc77844214af8d9a55b05103b4",
       "version_major": 2,
       "version_minor": 0
      },
      "text/plain": [
       "VBox()"
      ]
     },
     "metadata": {},
     "output_type": "display_data"
    },
    {
     "data": {
      "application/vnd.jupyter.widget-view+json": {
       "model_id": "",
       "version_major": 2,
       "version_minor": 0
      },
      "text/plain": [
       "FloatProgress(value=0.0, bar_style='info', description='Progress:', layout=Layout(height='25px', width='50%'),…"
      ]
     },
     "metadata": {},
     "output_type": "display_data"
    },
    {
     "name": "stdout",
     "output_type": "stream",
     "text": [
      "+-----------------------------------+-----------------+----------+\n",
      "|Description                        |MaxRevenue       |MinRevenue|\n",
      "+-----------------------------------+-----------------+----------+\n",
      "|MEDIUM CERAMIC TOP STORAGE JAR     |77183.6          |1.25      |\n",
      "|PICNIC BASKET WICKER 60 PIECES     |38970.0          |649.5     |\n",
      "|AMAZON FEE                         |13541.33         |219.76    |\n",
      "|Adjust bad debt                    |11062.06         |11062.06  |\n",
      "|POSTAGE                            |8142.75          |0.55      |\n",
      "|SET OF TEA COFFEE SUGAR TINS PANTRY|7144.719999999999|4.95      |\n",
      "|FAIRY CAKE FLANNEL ASSORTED COLOUR |6539.400000000001|0.79      |\n",
      "|RABBIT NIGHT LIGHT                 |4992.0           |2.08      |\n",
      "|WHITE HANGING HEART T-LIGHT HOLDER |4921.5           |0.0       |\n",
      "|PAPER CHAIN KIT 50'S CHRISTMAS     |4781.6           |2.95      |\n",
      "+-----------------------------------+-----------------+----------+\n",
      "only showing top 10 rows"
     ]
    }
   ],
   "source": [
    "df.groupBy(\"Description\") \\\n",
    "  .agg(\n",
    "    F.max(\"Revenue\").alias(\"MaxRevenue\"),\n",
    "    F.min(\"Revenue\").alias(\"MinRevenue\")\n",
    "  ) \\\n",
    "  .orderBy(F.desc(\"MaxRevenue\")) \\\n",
    "  .show(10, truncate=False)\n"
   ]
  },
  {
   "cell_type": "markdown",
   "id": "49aeefa3-b70c-4325-a058-05c701a35df8",
   "metadata": {},
   "source": [
    "Average and Std. Dev of Unit Price Per Product"
   ]
  },
  {
   "cell_type": "code",
   "execution_count": 24,
   "id": "51810c07-06e5-4f6b-98d9-793aae7deda0",
   "metadata": {
    "execution": {
     "iopub.execute_input": "2025-04-12T22:31:57.154569Z",
     "iopub.status.busy": "2025-04-12T22:31:57.154204Z",
     "iopub.status.idle": "2025-04-12T22:31:58.583506Z",
     "shell.execute_reply": "2025-04-12T22:31:58.582829Z",
     "shell.execute_reply.started": "2025-04-12T22:31:57.154544Z"
    },
    "executionRoleArn": "arn:aws:iam::867344474111:role/service-role/AmazonEMRStudio_RuntimeRole_1743529043363",
    "tags": []
   },
   "outputs": [
    {
     "data": {
      "application/vnd.jupyter.widget-view+json": {
       "model_id": "8a60bf00896f4726a2610f594cff3625",
       "version_major": 2,
       "version_minor": 0
      },
      "text/plain": [
       "VBox()"
      ]
     },
     "metadata": {},
     "output_type": "display_data"
    },
    {
     "data": {
      "application/vnd.jupyter.widget-view+json": {
       "model_id": "",
       "version_major": 2,
       "version_minor": 0
      },
      "text/plain": [
       "FloatProgress(value=0.0, bar_style='info', description='Progress:', layout=Layout(height='25px', width='50%'),…"
      ]
     },
     "metadata": {},
     "output_type": "display_data"
    },
    {
     "name": "stdout",
     "output_type": "stream",
     "text": [
      "+----------------------------------+------------------+------------------+\n",
      "|Description                       |AvgPrice          |PriceStdDev       |\n",
      "+----------------------------------+------------------+------------------+\n",
      "|Adjust bad debt                   |11062.06          |null              |\n",
      "|AMAZON FEE                        |6880.545          |9419.772483051276 |\n",
      "|PICNIC BASKET WICKER 60 PIECES    |649.5             |0.0               |\n",
      "|DOTCOM POSTAGE                    |291.31182203389835|355.56174416777293|\n",
      "|Manual                            |248.43593052109182|661.8744086581926 |\n",
      "|RUSTIC  SEVENTEEN DRAWER SIDEBOARD|158.07692307692307|9.703290480751681 |\n",
      "|REGENCY MIRROR WITH SHUTTERS      |156.42857142857142|10.690449676496977|\n",
      "|VINTAGE BLUE KITCHEN CABINET      |146.75            |66.03976075062658 |\n",
      "|VINTAGE RED KITCHEN CABINET       |143.42105263157896|62.1365678028766  |\n",
      "|CHEST NATURAL WOOD 20 DRAWERS     |118.07692307692308|7.783117824941562 |\n",
      "+----------------------------------+------------------+------------------+\n",
      "only showing top 10 rows"
     ]
    }
   ],
   "source": [
    "df.groupBy(\"Description\") \\\n",
    "  .agg(\n",
    "    F.avg(\"UnitPrice\").alias(\"AvgPrice\"),\n",
    "    F.stddev(\"UnitPrice\").alias(\"PriceStdDev\")\n",
    "  ) \\\n",
    "  .orderBy(F.desc(\"AvgPrice\")) \\\n",
    "  .show(10, truncate=False)\n"
   ]
  },
  {
   "cell_type": "markdown",
   "id": "fcb25c31-05b3-455d-890d-a8b738b212e7",
   "metadata": {},
   "source": [
    "Customer Purchase Behavior: Avg Revenue, Quantity, & Invoices"
   ]
  },
  {
   "cell_type": "code",
   "execution_count": 25,
   "id": "717edeb0-4a91-4092-b80e-92130aafcde9",
   "metadata": {
    "execution": {
     "iopub.execute_input": "2025-04-12T22:32:38.372069Z",
     "iopub.status.busy": "2025-04-12T22:32:38.371696Z",
     "iopub.status.idle": "2025-04-12T22:32:41.195859Z",
     "shell.execute_reply": "2025-04-12T22:32:41.195192Z",
     "shell.execute_reply.started": "2025-04-12T22:32:38.372044Z"
    },
    "executionRoleArn": "arn:aws:iam::867344474111:role/service-role/AmazonEMRStudio_RuntimeRole_1743529043363",
    "tags": []
   },
   "outputs": [
    {
     "data": {
      "application/vnd.jupyter.widget-view+json": {
       "model_id": "1290f039627649dcaec6be48a4fe7cce",
       "version_major": 2,
       "version_minor": 0
      },
      "text/plain": [
       "VBox()"
      ]
     },
     "metadata": {},
     "output_type": "display_data"
    },
    {
     "data": {
      "application/vnd.jupyter.widget-view+json": {
       "model_id": "",
       "version_major": 2,
       "version_minor": 0
      },
      "text/plain": [
       "FloatProgress(value=0.0, bar_style='info', description='Progress:', layout=Layout(height='25px', width='50%'),…"
      ]
     },
     "metadata": {},
     "output_type": "display_data"
    },
    {
     "name": "stdout",
     "output_type": "stream",
     "text": [
      "+----------+------------------+------------------+-------------+\n",
      "|CustomerID|        AvgRevenue|       AvgQuantity|TotalInvoices|\n",
      "+----------+------------------+------------------+-------------+\n",
      "|     12346|           77183.6|           74215.0|            1|\n",
      "|     15098|           13305.5|40.333333333333336|            3|\n",
      "|     15749|           4453.43|            1802.8|            3|\n",
      "|     15195|            3861.0|            1404.0|            1|\n",
      "|     13135|            3096.0|            4300.0|            1|\n",
      "|     17846|            2033.1|               1.0|            1|\n",
      "|     18087|2027.8599999999997|            1953.5|            2|\n",
      "|     16532|1687.1999999999998|             504.0|            3|\n",
      "|     16000|1377.0777777777778| 567.7777777777778|            3|\n",
      "|     16754|            1001.2|            2140.0|            1|\n",
      "+----------+------------------+------------------+-------------+\n",
      "only showing top 10 rows"
     ]
    }
   ],
   "source": [
    "df.groupBy(\"CustomerID\") \\\n",
    "  .agg(\n",
    "    F.avg(\"Revenue\").alias(\"AvgRevenue\"),\n",
    "    F.avg(\"Quantity\").alias(\"AvgQuantity\"),\n",
    "    F.countDistinct(\"InvoiceNo\").alias(\"TotalInvoices\")\n",
    "  ) \\\n",
    "  .orderBy(F.desc(\"AvgRevenue\")) \\\n",
    "  .show(10)\n"
   ]
  },
  {
   "cell_type": "markdown",
   "id": "419ed6b9-23c2-4d00-8930-ecd5f837cbab",
   "metadata": {},
   "source": [
    "Average Monthly Revenue Growth Per Country"
   ]
  },
  {
   "cell_type": "code",
   "execution_count": 26,
   "id": "58944a00-67b0-4bff-9328-59e3d86343f3",
   "metadata": {
    "execution": {
     "iopub.execute_input": "2025-04-12T22:33:08.654712Z",
     "iopub.status.busy": "2025-04-12T22:33:08.654385Z",
     "iopub.status.idle": "2025-04-12T22:33:10.071778Z",
     "shell.execute_reply": "2025-04-12T22:33:10.071110Z",
     "shell.execute_reply.started": "2025-04-12T22:33:08.654689Z"
    },
    "executionRoleArn": "arn:aws:iam::867344474111:role/service-role/AmazonEMRStudio_RuntimeRole_1743529043363",
    "tags": []
   },
   "outputs": [
    {
     "data": {
      "application/vnd.jupyter.widget-view+json": {
       "model_id": "a6f67ae39f914fc2b5b0ccaa61eb966d",
       "version_major": 2,
       "version_minor": 0
      },
      "text/plain": [
       "VBox()"
      ]
     },
     "metadata": {},
     "output_type": "display_data"
    },
    {
     "data": {
      "application/vnd.jupyter.widget-view+json": {
       "model_id": "",
       "version_major": 2,
       "version_minor": 0
      },
      "text/plain": [
       "FloatProgress(value=0.0, bar_style='info', description='Progress:', layout=Layout(height='25px', width='50%'),…"
      ]
     },
     "metadata": {},
     "output_type": "display_data"
    },
    {
     "name": "stdout",
     "output_type": "stream",
     "text": [
      "+---------------+------------------+\n",
      "|        Country| AvgMonthlyRevenue|\n",
      "+---------------+------------------+\n",
      "| United Kingdom| 685172.2957692313|\n",
      "|           EIRE|21972.883846153847|\n",
      "|    Netherlands|21863.496923076924|\n",
      "|        Germany|17704.916923076926|\n",
      "|         France| 16130.06923076923|\n",
      "|      Australia|        11402.0025|\n",
      "|      Singapore|           9848.74|\n",
      "|    Switzerland| 4761.631666666667|\n",
      "|          Spain| 4740.016923076923|\n",
      "|         Norway|3760.8660000000004|\n",
      "|          Japan|3669.1810000000005|\n",
      "|        Belgium|3156.7853846153844|\n",
      "|         Sweden|2935.1207692307685|\n",
      "|       Portugal| 2603.242307692308|\n",
      "|        Finland|           1891.29|\n",
      "|      Hong Kong|            1790.3|\n",
      "|        Denmark|1730.7845454545459|\n",
      "|         Cyprus|1724.6500000000003|\n",
      "|        Lebanon|1693.8799999999997|\n",
      "|Channel Islands|1692.5366666666669|\n",
      "+---------------+------------------+\n",
      "only showing top 20 rows"
     ]
    }
   ],
   "source": [
    "monthly_rev = df.groupBy(\"Country\", \"Month\") \\\n",
    "  .agg(F.sum(\"Revenue\").alias(\"MonthlyRevenue\"))\n",
    "\n",
    "monthly_rev.groupBy(\"Country\") \\\n",
    "  .agg(F.avg(\"MonthlyRevenue\").alias(\"AvgMonthlyRevenue\")) \\\n",
    "  .orderBy(F.desc(\"AvgMonthlyRevenue\")) \\\n",
    "  .show()\n"
   ]
  },
  {
   "cell_type": "markdown",
   "id": "5fbabbe9-d094-4c22-9ce2-07288888c7e4",
   "metadata": {},
   "source": [
    "Skew in Purchase Quantity Per Product (Min, Max, Avg)"
   ]
  },
  {
   "cell_type": "code",
   "execution_count": 27,
   "id": "03f50b8d-86b3-47fd-8a4b-292837a5488d",
   "metadata": {
    "execution": {
     "iopub.execute_input": "2025-04-12T22:33:37.277941Z",
     "iopub.status.busy": "2025-04-12T22:33:37.277392Z",
     "iopub.status.idle": "2025-04-12T22:33:38.665549Z",
     "shell.execute_reply": "2025-04-12T22:33:38.664850Z",
     "shell.execute_reply.started": "2025-04-12T22:33:37.277915Z"
    },
    "executionRoleArn": "arn:aws:iam::867344474111:role/service-role/AmazonEMRStudio_RuntimeRole_1743529043363",
    "tags": []
   },
   "outputs": [
    {
     "data": {
      "application/vnd.jupyter.widget-view+json": {
       "model_id": "61e5eead7181410688c95f9d2960bcbc",
       "version_major": 2,
       "version_minor": 0
      },
      "text/plain": [
       "VBox()"
      ]
     },
     "metadata": {},
     "output_type": "display_data"
    },
    {
     "data": {
      "application/vnd.jupyter.widget-view+json": {
       "model_id": "",
       "version_major": 2,
       "version_minor": 0
      },
      "text/plain": [
       "FloatProgress(value=0.0, bar_style='info', description='Progress:', layout=Layout(height='25px', width='50%'),…"
      ]
     },
     "metadata": {},
     "output_type": "display_data"
    },
    {
     "name": "stdout",
     "output_type": "stream",
     "text": [
      "+-----------------------------------+------+------+------------------+\n",
      "|Description                        |MinQty|MaxQty|AvgQty            |\n",
      "+-----------------------------------+------+------+------------------+\n",
      "|MEDIUM CERAMIC TOP STORAGE JAR     |1     |74215 |304.87109375      |\n",
      "|ASSTD DESIGN 3D PAPER STICKERS     |1     |12540 |326.54761904761904|\n",
      "|Not Available                      |1     |5568  |54.97804054054054 |\n",
      "|WORLD WAR 2 GLIDERS ASSTD DESIGNS  |1     |4800  |102.139146567718  |\n",
      "|SMALL POPCORN HOLDER               |1     |4300  |33.2833607907743  |\n",
      "|?                                  |101   |4000  |1352.0            |\n",
      "|EMPIRE DESIGN ROSETTE              |1     |3906  |151.57142857142858|\n",
      "|ESSENTIAL BALM 3.5g TIN IN ENVELOPE|1     |3186  |178.9090909090909 |\n",
      "|FAIRY CAKE FLANNEL ASSORTED COLOUR |1     |3114  |38.215613382899626|\n",
      "|came coded as 20713                |3100  |3100  |3100.0            |\n",
      "+-----------------------------------+------+------+------------------+\n",
      "only showing top 10 rows"
     ]
    }
   ],
   "source": [
    "df.groupBy(\"Description\") \\\n",
    "  .agg(\n",
    "    F.min(\"Quantity\").alias(\"MinQty\"),\n",
    "    F.max(\"Quantity\").alias(\"MaxQty\"),\n",
    "    F.avg(\"Quantity\").alias(\"AvgQty\")\n",
    "  ) \\\n",
    "  .orderBy(F.desc(\"MaxQty\")) \\\n",
    "  .show(10, truncate=False)\n"
   ]
  },
  {
   "cell_type": "markdown",
   "id": "ff32705c-0af1-45d1-a1fe-60d8beec2f1f",
   "metadata": {},
   "source": [
    "Variation in Spending Per Product Per Customer"
   ]
  },
  {
   "cell_type": "code",
   "execution_count": 28,
   "id": "34459b50-e0ab-4288-8b11-2d1d5a2ecb92",
   "metadata": {
    "execution": {
     "iopub.execute_input": "2025-04-12T22:34:05.526042Z",
     "iopub.status.busy": "2025-04-12T22:34:05.525381Z",
     "iopub.status.idle": "2025-04-12T22:34:08.130888Z",
     "shell.execute_reply": "2025-04-12T22:34:08.129533Z",
     "shell.execute_reply.started": "2025-04-12T22:34:05.526015Z"
    },
    "executionRoleArn": "arn:aws:iam::867344474111:role/service-role/AmazonEMRStudio_RuntimeRole_1743529043363",
    "tags": []
   },
   "outputs": [
    {
     "data": {
      "application/vnd.jupyter.widget-view+json": {
       "model_id": "1e9258a07e1743c8bc20dfd6423c29aa",
       "version_major": 2,
       "version_minor": 0
      },
      "text/plain": [
       "VBox()"
      ]
     },
     "metadata": {},
     "output_type": "display_data"
    },
    {
     "data": {
      "application/vnd.jupyter.widget-view+json": {
       "model_id": "",
       "version_major": 2,
       "version_minor": 0
      },
      "text/plain": [
       "FloatProgress(value=0.0, bar_style='info', description='Progress:', layout=Layout(height='25px', width='50%'),…"
      ]
     },
     "metadata": {},
     "output_type": "display_data"
    },
    {
     "name": "stdout",
     "output_type": "stream",
     "text": [
      "+----------+----------------------------------+-----------------+------------------+\n",
      "|CustomerID|Description                       |AvgSpent         |SpendStdDev       |\n",
      "+----------+----------------------------------+-----------------+------------------+\n",
      "|12346     |MEDIUM CERAMIC TOP STORAGE JAR    |77183.6          |null              |\n",
      "|15098     |PICNIC BASKET WICKER 60 PIECES    |19809.75         |27096.685408459096|\n",
      "|16547     |Adjust bad debt                   |11062.06         |null              |\n",
      "|16029     |POSTAGE                           |8142.75          |null              |\n",
      "|16547     |AMAZON FEE                        |6880.545         |9419.772483051276 |\n",
      "|15749     |FAIRY CAKE FLANNEL ASSORTED COLOUR|6539.400000000001|0.0               |\n",
      "|15749     |WHITE HANGING HEART T-LIGHT HOLDER|4776.75          |204.7074131535055 |\n",
      "|15749     |DOORMAT FAIRY CAKE                |4388.5           |189.50461735799473|\n",
      "|12536     |Manual                            |4161.06          |0.0               |\n",
      "|15195     |METAL SIGN TAKE IT OR LEAVE IT    |3861.0           |null              |\n",
      "+----------+----------------------------------+-----------------+------------------+\n",
      "only showing top 10 rows"
     ]
    }
   ],
   "source": [
    "df.groupBy(\"CustomerID\", \"Description\") \\\n",
    "  .agg(\n",
    "    F.avg(\"Revenue\").alias(\"AvgSpent\"),\n",
    "    F.stddev(\"Revenue\").alias(\"SpendStdDev\")\n",
    "  ) \\\n",
    "  .orderBy(F.desc(\"AvgSpent\")) \\\n",
    "  .show(10, truncate=False)\n"
   ]
  },
  {
   "cell_type": "markdown",
   "id": "324dda28-cb41-4c49-b73b-7f0e9831c618",
   "metadata": {},
   "source": [
    "RFM ANALYSIS"
   ]
  },
  {
   "cell_type": "markdown",
   "id": "e3fe9e72-425a-4c0c-91fb-87be546e578c",
   "metadata": {},
   "source": [
    "Calculate Recency"
   ]
  },
  {
   "cell_type": "code",
   "execution_count": 29,
   "id": "0d4e4e6b-5b76-4e78-a1b4-916fbf360067",
   "metadata": {
    "execution": {
     "iopub.execute_input": "2025-04-12T22:39:06.138400Z",
     "iopub.status.busy": "2025-04-12T22:39:06.138020Z",
     "iopub.status.idle": "2025-04-12T22:39:09.677398Z",
     "shell.execute_reply": "2025-04-12T22:39:09.676818Z",
     "shell.execute_reply.started": "2025-04-12T22:39:06.138375Z"
    },
    "executionRoleArn": "arn:aws:iam::867344474111:role/service-role/AmazonEMRStudio_RuntimeRole_1743529043363",
    "tags": []
   },
   "outputs": [
    {
     "data": {
      "application/vnd.jupyter.widget-view+json": {
       "model_id": "c327397d541f40c3a324af706cc46def",
       "version_major": 2,
       "version_minor": 0
      },
      "text/plain": [
       "VBox()"
      ]
     },
     "metadata": {},
     "output_type": "display_data"
    },
    {
     "data": {
      "application/vnd.jupyter.widget-view+json": {
       "model_id": "",
       "version_major": 2,
       "version_minor": 0
      },
      "text/plain": [
       "FloatProgress(value=0.0, bar_style='info', description='Progress:', layout=Layout(height='25px', width='50%'),…"
      ]
     },
     "metadata": {},
     "output_type": "display_data"
    },
    {
     "name": "stdout",
     "output_type": "stream",
     "text": [
      "+----------+----------------+-------+\n",
      "|CustomerID|LastPurchaseDate|Recency|\n",
      "+----------+----------------+-------+\n",
      "|     12626|      2011-11-16|     23|\n",
      "|     14423|      2011-05-05|    218|\n",
      "|     17809|      2011-11-23|     16|\n",
      "|     17708|      2011-06-05|    187|\n",
      "|     17754|      2011-12-09|      0|\n",
      "|     17783|      2011-09-28|     72|\n",
      "|     16283|      2011-12-04|      5|\n",
      "|     14837|      2011-09-11|     89|\n",
      "|     17223|      2011-02-02|    310|\n",
      "|     15535|      2011-06-19|    173|\n",
      "|     14944|      2011-11-10|     29|\n",
      "|     16232|      2011-10-27|     43|\n",
      "|     16706|      2011-11-02|     37|\n",
      "|     15429|      2011-11-13|     26|\n",
      "|     16999|      2011-11-16|     23|\n",
      "|     17346|      2011-12-06|      3|\n",
      "|     16510|      2010-12-02|    372|\n",
      "|     15594|      2011-11-24|     15|\n",
      "|     16526|      2011-06-21|    171|\n",
      "|     14030|      2011-11-21|     18|\n",
      "+----------+----------------+-------+\n",
      "only showing top 20 rows"
     ]
    }
   ],
   "source": [
    "from pyspark.sql.functions import max, datediff, lit, to_date\n",
    "\n",
    "# Step 1: Standardize InvoiceDate and convert to proper date\n",
    "df = df.withColumn(\"InvoiceTimestamp\", to_date(\"InvoiceTimestamp\"))\n",
    "\n",
    "# Step 2: Find the most recent date in the dataset\n",
    "max_date = df.agg(max(\"InvoiceTimestamp\")).collect()[0][0]\n",
    "\n",
    "# Step 3: Recency = (most recent date in dataset) - (last purchase date per customer)\n",
    "recency_df = df.groupBy(\"CustomerID\") \\\n",
    "    .agg(max(\"InvoiceTimestamp\").alias(\"LastPurchaseDate\")) \\\n",
    "    .withColumn(\"Recency\", datediff(lit(max_date), \"LastPurchaseDate\"))\n",
    "\n",
    "recency_df.show()"
   ]
  },
  {
   "cell_type": "markdown",
   "id": "dd33db40-c741-46fa-bd62-5eb7e2dea74c",
   "metadata": {},
   "source": [
    "Calculate Frequency"
   ]
  },
  {
   "cell_type": "code",
   "execution_count": 30,
   "id": "7688b464-6c10-4728-9dd9-686a3697690e",
   "metadata": {
    "execution": {
     "iopub.execute_input": "2025-04-12T22:39:27.957747Z",
     "iopub.status.busy": "2025-04-12T22:39:27.957190Z",
     "iopub.status.idle": "2025-04-12T22:39:29.362315Z",
     "shell.execute_reply": "2025-04-12T22:39:29.361645Z",
     "shell.execute_reply.started": "2025-04-12T22:39:27.957722Z"
    },
    "executionRoleArn": "arn:aws:iam::867344474111:role/service-role/AmazonEMRStudio_RuntimeRole_1743529043363",
    "tags": []
   },
   "outputs": [
    {
     "data": {
      "application/vnd.jupyter.widget-view+json": {
       "model_id": "9cc81f98a17c4c1d89f9a555eed33740",
       "version_major": 2,
       "version_minor": 0
      },
      "text/plain": [
       "VBox()"
      ]
     },
     "metadata": {},
     "output_type": "display_data"
    },
    {
     "data": {
      "application/vnd.jupyter.widget-view+json": {
       "model_id": "",
       "version_major": 2,
       "version_minor": 0
      },
      "text/plain": [
       "FloatProgress(value=0.0, bar_style='info', description='Progress:', layout=Layout(height='25px', width='50%'),…"
      ]
     },
     "metadata": {},
     "output_type": "display_data"
    },
    {
     "name": "stdout",
     "output_type": "stream",
     "text": [
      "+----------+---------+\n",
      "|CustomerID|Frequency|\n",
      "+----------+---------+\n",
      "|     16503|        4|\n",
      "|     12626|        9|\n",
      "|     17809|       12|\n",
      "|     15535|        4|\n",
      "|     15429|        2|\n",
      "|     14944|       11|\n",
      "|     16232|        4|\n",
      "|     15594|        5|\n",
      "|     17346|       15|\n",
      "|     14030|        8|\n",
      "|     16766|        2|\n",
      "|     12723|        5|\n",
      "|     18014|        1|\n",
      "|     17926|        2|\n",
      "|     15491|        6|\n",
      "|     13751|        1|\n",
      "|     13994|        6|\n",
      "|     16274|        1|\n",
      "|     12494|        7|\n",
      "|     16671|        3|\n",
      "+----------+---------+\n",
      "only showing top 20 rows"
     ]
    }
   ],
   "source": [
    "from pyspark.sql.functions import countDistinct\n",
    "\n",
    "# Frequency = Count of unique invoices per customer\n",
    "frequency_df = df.select(\"CustomerID\", \"InvoiceNo\").dropDuplicates() \\\n",
    "    .groupBy(\"CustomerID\") \\\n",
    "    .agg(countDistinct(\"InvoiceNo\").alias(\"Frequency\"))\n",
    "\n",
    "frequency_df.show()"
   ]
  },
  {
   "cell_type": "markdown",
   "id": "0f61a7e0-20de-4205-bc9a-aaf9a1bc51e0",
   "metadata": {},
   "source": [
    "Calculate Monetary"
   ]
  },
  {
   "cell_type": "code",
   "execution_count": 31,
   "id": "f36f22bf-368f-4ba0-aa62-a1f0176310c5",
   "metadata": {
    "execution": {
     "iopub.execute_input": "2025-04-12T22:40:15.131778Z",
     "iopub.status.busy": "2025-04-12T22:40:15.131392Z",
     "iopub.status.idle": "2025-04-12T22:40:16.559098Z",
     "shell.execute_reply": "2025-04-12T22:40:16.558382Z",
     "shell.execute_reply.started": "2025-04-12T22:40:15.131753Z"
    },
    "executionRoleArn": "arn:aws:iam::867344474111:role/service-role/AmazonEMRStudio_RuntimeRole_1743529043363",
    "tags": []
   },
   "outputs": [
    {
     "data": {
      "application/vnd.jupyter.widget-view+json": {
       "model_id": "4d097ce2407e403fa5d77f52ab0d1e07",
       "version_major": 2,
       "version_minor": 0
      },
      "text/plain": [
       "VBox()"
      ]
     },
     "metadata": {},
     "output_type": "display_data"
    },
    {
     "data": {
      "application/vnd.jupyter.widget-view+json": {
       "model_id": "",
       "version_major": 2,
       "version_minor": 0
      },
      "text/plain": [
       "FloatProgress(value=0.0, bar_style='info', description='Progress:', layout=Layout(height='25px', width='50%'),…"
      ]
     },
     "metadata": {},
     "output_type": "display_data"
    },
    {
     "name": "stdout",
     "output_type": "stream",
     "text": [
      "+----------+--------+\n",
      "|CustomerID|Monetary|\n",
      "+----------+--------+\n",
      "|     16339|   114.3|\n",
      "|     16503| 1431.93|\n",
      "|     12626| 6620.48|\n",
      "|     17783|  275.48|\n",
      "|     17809| 5162.91|\n",
      "|     16283| 1616.62|\n",
      "|     14837|  1649.5|\n",
      "|     17708|  267.08|\n",
      "|     17754| 1857.46|\n",
      "|     13483|  140.34|\n",
      "|     17223|  442.04|\n",
      "|     13508|  110.97|\n",
      "|     15535|   549.3|\n",
      "|     16706|   549.2|\n",
      "|     14660|  285.74|\n",
      "|     14944| 5865.57|\n",
      "|     13504|  295.93|\n",
      "|     15429|  414.55|\n",
      "|     17346| 2717.71|\n",
      "|     15594| 1771.78|\n",
      "+----------+--------+\n",
      "only showing top 20 rows"
     ]
    }
   ],
   "source": [
    "from pyspark.sql.functions import sum, round, col\n",
    "\n",
    "# Step 1: Create a Revenue column per transaction\n",
    "df = df.withColumn(\"Revenue\", col(\"Quantity\") * col(\"UnitPrice\"))\n",
    "\n",
    "# Step 2: Monetary = Total Revenue per Customer\n",
    "monetary_df = df.groupBy(\"CustomerID\") \\\n",
    "    .agg(round(sum(\"Revenue\"), 2).alias(\"Monetary\"))\n",
    "\n",
    "monetary_df.show()"
   ]
  },
  {
   "cell_type": "code",
   "execution_count": 32,
   "id": "2f183b25-3553-486a-85ee-5392dc9f087f",
   "metadata": {
    "execution": {
     "iopub.execute_input": "2025-04-12T22:40:29.071992Z",
     "iopub.status.busy": "2025-04-12T22:40:29.071667Z",
     "iopub.status.idle": "2025-04-12T22:40:32.588969Z",
     "shell.execute_reply": "2025-04-12T22:40:32.588356Z",
     "shell.execute_reply.started": "2025-04-12T22:40:29.071969Z"
    },
    "executionRoleArn": "arn:aws:iam::867344474111:role/service-role/AmazonEMRStudio_RuntimeRole_1743529043363",
    "tags": []
   },
   "outputs": [
    {
     "data": {
      "application/vnd.jupyter.widget-view+json": {
       "model_id": "7204561c3574492bb8fefe6ea41b8a99",
       "version_major": 2,
       "version_minor": 0
      },
      "text/plain": [
       "VBox()"
      ]
     },
     "metadata": {},
     "output_type": "display_data"
    },
    {
     "data": {
      "application/vnd.jupyter.widget-view+json": {
       "model_id": "",
       "version_major": 2,
       "version_minor": 0
      },
      "text/plain": [
       "FloatProgress(value=0.0, bar_style='info', description='Progress:', layout=Layout(height='25px', width='50%'),…"
      ]
     },
     "metadata": {},
     "output_type": "display_data"
    },
    {
     "name": "stdout",
     "output_type": "stream",
     "text": [
      "+----------+-------+---------+--------+\n",
      "|CustomerID|Recency|Frequency|Monetary|\n",
      "+----------+-------+---------+--------+\n",
      "|     16339|    284|        1|   114.3|\n",
      "|     12626|     23|        9| 6620.48|\n",
      "|     17809|     16|       12| 5162.91|\n",
      "|     16283|      5|        5| 1616.62|\n",
      "|     15429|     26|        2|  414.55|\n",
      "|     16999|     23|        2|  484.82|\n",
      "|     14944|     29|       11| 5865.57|\n",
      "|     17346|      3|       15| 2717.71|\n",
      "|     14030|     18|        8| 2344.22|\n",
      "|     17396|     39|        8|  7330.8|\n",
      "|     16801|    163|        4| 1606.98|\n",
      "|     13994|      3|        6| 2362.26|\n",
      "|     16671|     28|        3| 1692.27|\n",
      "|     13726|     38|        2| 1079.66|\n",
      "|     13104|      3|        6| 1098.48|\n",
      "|     15062|     71|        4|  987.86|\n",
      "|     12705|     15|        9| 6863.25|\n",
      "|     17895|     44|        1|    98.0|\n",
      "|     14961|     10|        9| 7024.88|\n",
      "|     16431|    213|        3|  749.48|\n",
      "+----------+-------+---------+--------+\n",
      "only showing top 20 rows"
     ]
    }
   ],
   "source": [
    "# Join Recency, Frequency, and Monetary on CustomerID\n",
    "rfm_df = recency_df.join(frequency_df, \"CustomerID\") \\\n",
    "                   .join(monetary_df, \"CustomerID\")\n",
    "rfm_df = rfm_df.drop(\"LastPurchaseDate\")\n",
    "rfm_df.show()"
   ]
  },
  {
   "cell_type": "code",
   "execution_count": 33,
   "id": "0d9d81ed-7a78-413e-bbcf-509395d62cd3",
   "metadata": {
    "execution": {
     "iopub.execute_input": "2025-04-12T22:42:11.530458Z",
     "iopub.status.busy": "2025-04-12T22:42:11.530120Z",
     "iopub.status.idle": "2025-04-12T22:42:15.033663Z",
     "shell.execute_reply": "2025-04-12T22:42:15.032964Z",
     "shell.execute_reply.started": "2025-04-12T22:42:11.530435Z"
    },
    "executionRoleArn": "arn:aws:iam::867344474111:role/service-role/AmazonEMRStudio_RuntimeRole_1743529043363",
    "tags": []
   },
   "outputs": [
    {
     "data": {
      "application/vnd.jupyter.widget-view+json": {
       "model_id": "8f0ecb834a0d4271b1c0892cf918c9a9",
       "version_major": 2,
       "version_minor": 0
      },
      "text/plain": [
       "VBox()"
      ]
     },
     "metadata": {},
     "output_type": "display_data"
    },
    {
     "data": {
      "application/vnd.jupyter.widget-view+json": {
       "model_id": "",
       "version_major": 2,
       "version_minor": 0
      },
      "text/plain": [
       "FloatProgress(value=0.0, bar_style='info', description='Progress:', layout=Layout(height='25px', width='50%'),…"
      ]
     },
     "metadata": {},
     "output_type": "display_data"
    }
   ],
   "source": [
    "rfm_df.write \\\n",
    "    .option(\"header\", \"true\") \\\n",
    "    .mode(\"overwrite\") \\\n",
    "    .csv(\"s3://project-tarun/Output/\")\n"
   ]
  },
  {
   "cell_type": "code",
   "execution_count": null,
   "id": "23be3f0c-b7c1-467a-a119-24075383a914",
   "metadata": {},
   "outputs": [],
   "source": []
  }
 ],
 "metadata": {
  "kernelspec": {
   "display_name": "PySpark",
   "language": "python",
   "name": "spark_magic_pyspark"
  },
  "language_info": {
   "codemirror_mode": {
    "name": "python",
    "version": 3
   },
   "file_extension": ".py",
   "mimetype": "text/x-python",
   "name": "pyspark",
   "pygments_lexer": "python3"
  }
 },
 "nbformat": 4,
 "nbformat_minor": 5
}
